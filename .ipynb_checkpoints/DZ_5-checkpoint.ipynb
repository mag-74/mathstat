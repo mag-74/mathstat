{
 "cells": [
  {
   "cell_type": "markdown",
   "id": "3eb07179",
   "metadata": {},
   "source": [
    "ЗАДАЧА №1. Когда используется критерий Стьюдента, а когда Z –критерий?"
   ]
  },
  {
   "cell_type": "markdown",
   "id": "9c3b4c60",
   "metadata": {},
   "source": [
    "ОТВЕТ ЗАДАЧИ №1: Если известна сигма генеральной совокупности, то используется Z-критерий. Если неизвестна, то применяется критерий Стьюдента."
   ]
  },
  {
   "cell_type": "markdown",
   "id": "a21df27b",
   "metadata": {},
   "source": [
    "Задачи 2,3 решать вручную! "
   ]
  },
  {
   "cell_type": "markdown",
   "id": "b748bd0c",
   "metadata": {},
   "source": [
    "ЗАДАЧА №2. Проведите тест гипотезы. Утверждается, что шарики для подшипников, изготовленные автоматическим станком, имеют средний диаметр 17 мм.\n",
    "Используя односторонний критерий с α=0,05, проверить эту гипотезу, если в выборке из n=100 шариков средний диаметр\n",
    "оказался равным 17.5 мм, а дисперсия известна и равна 4 кв. мм."
   ]
  },
  {
   "cell_type": "code",
   "execution_count": 57,
   "id": "d2945dcf",
   "metadata": {},
   "outputs": [],
   "source": [
    "import numpy as np"
   ]
  },
  {
   "cell_type": "code",
   "execution_count": 58,
   "id": "8107af59",
   "metadata": {},
   "outputs": [
    {
     "data": {
      "text/plain": [
       "1.25"
      ]
     },
     "execution_count": 58,
     "metadata": {},
     "output_type": "execute_result"
    }
   ],
   "source": [
    "# Из условия задачи мы знаем, что:\n",
    "sigma = 4\n",
    "alpha = 0.05\n",
    "n = 100\n",
    "# Нулевая гипотеза \"H_0:mu = 17\", альтернативная - \"H_1:mu > 17\"\n",
    "# Вычисляем наблюдаемое значение критерия:\n",
    "U_observable = (17.5-17)/(sigma/np.sqrt(n))\n",
    "U_observable"
   ]
  },
  {
   "cell_type": "markdown",
   "id": "2352ddd3",
   "metadata": {},
   "source": [
    "Уровень значимости левой отсекаемой зоны графика распределения - 1 минус половина альфы, т.е. 1 - 0,025 = 0,975. \n",
    "По таблице Z-значений (известна сигма генеральной совокупности) находим значение для 0,975 - получается 1,96. \n",
    "Поскольку наблюдаемое значение меньше, чем граничное для заданной альфы: 1,25 < 1,96. \n",
    "Это значит, что оно находится в области нулевой гипотезы."
   ]
  },
  {
   "cell_type": "markdown",
   "id": "452b7094",
   "metadata": {},
   "source": [
    "ОТВЕТ ЗАДАЧИ №2: При уровне значимости 0,05 средний размер генеральной совокупности составляет 17 мм."
   ]
  },
  {
   "cell_type": "markdown",
   "id": "1bea3670",
   "metadata": {},
   "source": [
    "ЗАДАЧА №3. Проведите тест гипотезы. Продавец утверждает, что средний вес пачки печенья составляет 200 г.\n",
    "Из партии извлечена выборка из 10 пачек. Вес каждой пачки составляет:\n",
    "202, 203, 199, 197, 195, 201, 200, 204, 194, 190.\n",
    "Известно, что их веса распределены нормально.\n",
    "Верно ли утверждение продавца, если учитывать, что доверительная вероятность равна 99%? Провести двусторонний тест."
   ]
  },
  {
   "cell_type": "code",
   "execution_count": 59,
   "id": "49262429",
   "metadata": {},
   "outputs": [
    {
     "data": {
      "text/plain": [
       "198.5"
      ]
     },
     "execution_count": 59,
     "metadata": {},
     "output_type": "execute_result"
    }
   ],
   "source": [
    "# Нулевая гипотеза \"Вес пачки равен 200г\", альтернативная - \"не равен 200г\"\n",
    "# Сначала вычислим показатели выборки\n",
    "# Среднее значение:\n",
    "mu = (202+203+199+197+195+201+200+204+194+190) / 10\n",
    "mu"
   ]
  },
  {
   "cell_type": "code",
   "execution_count": 60,
   "id": "e08fa4af",
   "metadata": {},
   "outputs": [
    {
     "data": {
      "text/plain": [
       "19.833333333333332"
      ]
     },
     "execution_count": 60,
     "metadata": {},
     "output_type": "execute_result"
    }
   ],
   "source": [
    "# Исправленная выборочная дисперсия:\n",
    "array = [202, 203, 199, 197, 195, 201, 200, 204, 194, 190]\n",
    "sum_of_squared_deviations = 0\n",
    "for i in range(len(array)):\n",
    "    sum_of_squared_deviations += (array[i] - mu)**2\n",
    "σ2 = sum_of_squared_deviations / (len(array) - 1)\n",
    "σ2"
   ]
  },
  {
   "cell_type": "code",
   "execution_count": 61,
   "id": "63876749",
   "metadata": {},
   "outputs": [
    {
     "data": {
      "text/plain": [
       "4.453463071962462"
      ]
     },
     "execution_count": 61,
     "metadata": {},
     "output_type": "execute_result"
    }
   ],
   "source": [
    "# Выборочное исправленное среднеквадратичное отклонение:\n",
    "D_x = np.sqrt(σ2)\n",
    "D_x"
   ]
  },
  {
   "cell_type": "code",
   "execution_count": 62,
   "id": "18950102",
   "metadata": {},
   "outputs": [
    {
     "data": {
      "text/plain": [
       "-3.368165348543039"
      ]
     },
     "execution_count": 62,
     "metadata": {},
     "output_type": "execute_result"
    }
   ],
   "source": [
    "# Нулевая гипотеза \"H_0:mu = 200\", альтернативная - \"H_1:mu > 200\"\n",
    "# Вычисляем наблюдаемое значение критерия:\n",
    "U_observable = (mu-200)/(D_x/np.sqrt(n))\n",
    "U_observable"
   ]
  },
  {
   "cell_type": "markdown",
   "id": "33401fa0",
   "metadata": {},
   "source": [
    "По таблице критических точек распределения Стьюдента найдем критическую точку по уровню значимости alpha = 0,01 и числу степеней свободы k = 9 , откуда t_кр приблизительно равна 3,25.\n",
    "![t-таблица Стьюдента](t_table.jpg)"
   ]
  },
  {
   "cell_type": "markdown",
   "id": "b6a68d28",
   "metadata": {},
   "source": [
    "ОТВЕТ ЗАДАЧИ №3: Насколько я понял (а это не точно) - поскольку мы не попали в область нулевой гипотезы от -3,25 до +3,25, а \"вывалились\" влево, то побеждает альтернативная гипотеза. Т.е. вес пачки меньше чем 200г и следовательно утверждение продавца неверно."
   ]
  },
  {
   "cell_type": "markdown",
   "id": "44011832",
   "metadata": {},
   "source": [
    "Задачу 4 решать с помощью функции!"
   ]
  },
  {
   "cell_type": "markdown",
   "id": "97584ec7",
   "metadata": {},
   "source": [
    "ЗАДАЧА №4. Есть ли статистически значимые различия в росте дочерей?\n",
    "Рост матерей 172, 177, 158, 170, 178, 175, 164, 160, 169\n",
    "Рост взрослых дочерей: 173, 175, 162, 174, 175, 168, 155, 170, 160"
   ]
  },
  {
   "cell_type": "code",
   "execution_count": 63,
   "id": "d0530359",
   "metadata": {},
   "outputs": [],
   "source": [
    "x = np.array([172, 177, 158, 170, 178, 175, 164, 160, 169])\n",
    "y = np.array([173, 175, 162, 174, 175, 168, 155, 170, 160])"
   ]
  },
  {
   "cell_type": "code",
   "execution_count": 64,
   "id": "340176e3",
   "metadata": {},
   "outputs": [
    {
     "data": {
      "text/plain": [
       "Ttest_relResult(statistic=0.559522990335608, pvalue=0.5911212354055175)"
      ]
     },
     "execution_count": 64,
     "metadata": {},
     "output_type": "execute_result"
    }
   ],
   "source": [
    "# Нулевая гипотеза \"Статистических различий в двух выборках нет\", альтернативная - \"Различия есть\"\n",
    "# Используем двухвыборочный тест Стьюдента с зависимыми выбоками:\n",
    "import scipy.stats as stats\n",
    "stats.ttest_rel(x, y)"
   ]
  },
  {
   "cell_type": "code",
   "execution_count": 65,
   "id": "2b1578b1",
   "metadata": {},
   "outputs": [],
   "source": [
    "# Уровень статистической значимости выбираем 5%, т.е. alpha = 0.05\n",
    "# Полученный pvalue больше, чем alpha - значит подтверждается альтернативная гипотеза."
   ]
  },
  {
   "cell_type": "markdown",
   "id": "9c208c22",
   "metadata": {},
   "source": [
    "ОТВЕТ ЗАДАЧИ №4: Статистические значимые различия есть."
   ]
  }
 ],
 "metadata": {
  "kernelspec": {
   "display_name": "Python 3 (ipykernel)",
   "language": "python",
   "name": "python3"
  },
  "language_info": {
   "codemirror_mode": {
    "name": "ipython",
    "version": 3
   },
   "file_extension": ".py",
   "mimetype": "text/x-python",
   "name": "python",
   "nbconvert_exporter": "python",
   "pygments_lexer": "ipython3",
   "version": "3.9.13"
  }
 },
 "nbformat": 4,
 "nbformat_minor": 5
}
