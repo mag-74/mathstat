{
 "cells": [
  {
   "cell_type": "code",
   "execution_count": 18,
   "id": "19b93e6f",
   "metadata": {},
   "outputs": [],
   "source": [
    "import numpy as np\n",
    "import scipy.stats as stats\n",
    "import pandas as pd\n",
    "from statsmodels.stats.multicomp import pairwise_tukeyhsd"
   ]
  },
  {
   "cell_type": "markdown",
   "id": "6da28e10",
   "metadata": {},
   "source": [
    "Провести дисперсионный анализ для определения того, есть ли различия среднего роста среди взрослых футболистов, хоккеистов и штангистов. Даны значения роста в трех группах случайно выбранных спортсменов:\n",
    "Футболисты: 173, 175, 180, 178, 177, 185, 183, 182.\n",
    "Хоккеисты: 177, 179, 180, 188, 177, 172, 171, 184, 180.\n",
    "Штангисты: 172, 173, 169, 177, 166, 180, 178, 177, 172, 166, 170.\n"
   ]
  },
  {
   "cell_type": "code",
   "execution_count": 19,
   "id": "02b4c8b1",
   "metadata": {},
   "outputs": [],
   "source": [
    "fut = np.array([173, 175, 180, 178, 177, 185, 183, 182])\n",
    "hoc = np.array([177, 179, 180, 188, 177, 172, 171, 184, 180])\n",
    "bar = np.array([172, 173, 169, 177, 166, 180, 178, 177, 172, 166, 170])"
   ]
  },
  {
   "cell_type": "code",
   "execution_count": 20,
   "id": "116210ca",
   "metadata": {},
   "outputs": [
    {
     "name": "stdout",
     "output_type": "stream",
     "text": [
      "ShapiroResult(statistic=0.9775082468986511, pvalue=0.9495404362678528)\n",
      "ShapiroResult(statistic=0.9579196572303772, pvalue=0.7763139009475708)\n",
      "ShapiroResult(statistic=0.9386808276176453, pvalue=0.5051165223121643)\n"
     ]
    }
   ],
   "source": [
    "# Проверим выборки на выполнение условий применимости дисперсионного анализа с помощью теста Шапиро:\n",
    "print(stats.shapiro(fut))\n",
    "print(stats.shapiro(hoc))\n",
    "print(stats.shapiro(bar))"
   ]
  },
  {
   "cell_type": "markdown",
   "id": "422e1b67",
   "metadata": {},
   "source": [
    "Поскольку значения pvalue значительно больше уровня статзначимости 5%, у нас нет отклонений от нормальности во всех выборках."
   ]
  },
  {
   "cell_type": "code",
   "execution_count": 21,
   "id": "43c2a3b1",
   "metadata": {},
   "outputs": [
    {
     "data": {
      "text/plain": [
       "(8, 9, 11)"
      ]
     },
     "execution_count": 21,
     "metadata": {},
     "output_type": "execute_result"
    }
   ],
   "source": [
    "# Для начала оценим длину выборок и сравним их.\n",
    "n1 = len(fut)\n",
    "n2 = len(hoc)\n",
    "n3 = len(bar)\n",
    "n1, n2, n3"
   ]
  },
  {
   "cell_type": "code",
   "execution_count": 22,
   "id": "ff11774c",
   "metadata": {},
   "outputs": [
    {
     "data": {
      "text/plain": [
       "BartlettResult(statistic=0.4640521043406442, pvalue=0.7929254656083131)"
      ]
     },
     "execution_count": 22,
     "metadata": {},
     "output_type": "execute_result"
    }
   ],
   "source": [
    "# Поскольку выборки разной длины потребуется проверка однородности дисперсий с помощью теста Бартлетта:\n",
    "stats.bartlett(fut, hoc, bar)"
   ]
  },
  {
   "cell_type": "markdown",
   "id": "97649dcf",
   "metadata": {},
   "source": [
    "Значение pvalue больше, чем 0,05. Таким образом, можно приступить к выполнению дисперсионного анализа."
   ]
  },
  {
   "cell_type": "code",
   "execution_count": 23,
   "id": "f1feb93f",
   "metadata": {},
   "outputs": [
    {
     "data": {
      "text/plain": [
       "(179.125, 178.66666666666666, 172.72727272727272)"
      ]
     },
     "execution_count": 23,
     "metadata": {},
     "output_type": "execute_result"
    }
   ],
   "source": [
    "# Посчитаем средние значения по выборкам:\n",
    "μ_fut = np.mean(fut)\n",
    "μ_hoc = np.mean(hoc)\n",
    "μ_bar = np.mean(bar)\n",
    "μ_fut, μ_hoc, μ_bar"
   ]
  },
  {
   "cell_type": "code",
   "execution_count": 24,
   "id": "8600b64d",
   "metadata": {},
   "outputs": [
    {
     "data": {
      "text/plain": [
       "array([173, 175, 180, 178, 177, 185, 183, 182, 177, 179, 180, 188, 177,\n",
       "       172, 171, 184, 180, 172, 173, 169, 177, 166, 180, 178, 177, 172,\n",
       "       166, 170])"
      ]
     },
     "execution_count": 24,
     "metadata": {},
     "output_type": "execute_result"
    }
   ],
   "source": [
    "# Средние значения разные. Посчитаем общее среднее значение, соединив выборки в один массив:\n",
    "all = np.concatenate([fut, hoc, bar])\n",
    "all"
   ]
  },
  {
   "cell_type": "code",
   "execution_count": 25,
   "id": "b34cbd59",
   "metadata": {},
   "outputs": [
    {
     "data": {
      "text/plain": [
       "176.46428571428572"
      ]
     },
     "execution_count": 25,
     "metadata": {},
     "output_type": "execute_result"
    }
   ],
   "source": [
    "μ_all = np.mean(all)\n",
    "μ_all"
   ]
  },
  {
   "cell_type": "code",
   "execution_count": 26,
   "id": "843f63e0",
   "metadata": {},
   "outputs": [
    {
     "data": {
      "text/plain": [
       "830.9642857142854"
      ]
     },
     "execution_count": 26,
     "metadata": {},
     "output_type": "execute_result"
    }
   ],
   "source": [
    "# Найдем сумму квадратов отклонений наблюдений от общего среднего:\n",
    "S2 = np.sum((all - μ_all)**2)\n",
    "S2"
   ]
  },
  {
   "cell_type": "code",
   "execution_count": 27,
   "id": "07e52021",
   "metadata": {},
   "outputs": [
    {
     "data": {
      "text/plain": [
       "253.9074675324678"
      ]
     },
     "execution_count": 27,
     "metadata": {},
     "output_type": "execute_result"
    }
   ],
   "source": [
    "# Найдем сумму квадратов отклонений средних групповых значений от общего среднего:\n",
    "S2_f = ((μ_fut - μ_all)**2) * n1 + ((μ_hoc - μ_all)**2) * n2 + ((μ_bar - μ_all)**2) * n3\n",
    "S2_f"
   ]
  },
  {
   "cell_type": "code",
   "execution_count": 28,
   "id": "4e0a3e78",
   "metadata": {},
   "outputs": [
    {
     "data": {
      "text/plain": [
       "577.0568181818182"
      ]
     },
     "execution_count": 28,
     "metadata": {},
     "output_type": "execute_result"
    }
   ],
   "source": [
    "# Найдем остаточную сумму квадратов отклонений:\n",
    "S2_r = np.sum((fut - μ_fut)**2) + np.sum((hoc - μ_hoc)**2) + np.sum((bar - μ_bar)**2)\n",
    "S2_r"
   ]
  },
  {
   "cell_type": "code",
   "execution_count": 29,
   "id": "4bc5c8c9",
   "metadata": {},
   "outputs": [
    {
     "data": {
      "text/plain": [
       "30.776455026455015"
      ]
     },
     "execution_count": 29,
     "metadata": {},
     "output_type": "execute_result"
    }
   ],
   "source": [
    "# Найдем общую дисперсию:\n",
    "σ2_all = S2 / (len(all) - 1)\n",
    "σ2_all"
   ]
  },
  {
   "cell_type": "code",
   "execution_count": 30,
   "id": "a0347653",
   "metadata": {},
   "outputs": [
    {
     "data": {
      "text/plain": [
       "126.9537337662339"
      ]
     },
     "execution_count": 30,
     "metadata": {},
     "output_type": "execute_result"
    }
   ],
   "source": [
    "# Найдем факторную дисперсию:\n",
    "k = 3\n",
    "σ2_f = S2_f / (k - 1)\n",
    "σ2_f"
   ]
  },
  {
   "cell_type": "code",
   "execution_count": 31,
   "id": "14aab994",
   "metadata": {},
   "outputs": [
    {
     "data": {
      "text/plain": [
       "23.08227272727273"
      ]
     },
     "execution_count": 31,
     "metadata": {},
     "output_type": "execute_result"
    }
   ],
   "source": [
    "# Найдем остаточную дисперсию:\n",
    "σ2_r = S2_r / (len(all) - k)\n",
    "σ2_r"
   ]
  },
  {
   "cell_type": "code",
   "execution_count": 32,
   "id": "4afdffe9",
   "metadata": {},
   "outputs": [
    {
     "data": {
      "text/plain": [
       "5.500053450812598"
      ]
     },
     "execution_count": 32,
     "metadata": {},
     "output_type": "execute_result"
    }
   ],
   "source": [
    "# Теперь рассчитаем наблюдаемое значение:\n",
    "F_n = σ2_f/σ2_r\n",
    "F_n"
   ]
  },
  {
   "cell_type": "markdown",
   "id": "6bac7f5f",
   "metadata": {},
   "source": [
    "По критерию Фишера найдем значение для уровня значимости и двух степеней свободы 2 (как 3 минус 1) и 25 (как длины выборок минус количество выборок, т.е. 28 - 3. Получаем значение 3,385. Поскольку наблюдаемое значение больше него, из этого следует, что различия роста в трех группах статистически значимы.\n",
    "\n",
    "Для качественной оценки различий среднего роста спортсменов по видам спорта применим тест Тьюки."
   ]
  },
  {
   "cell_type": "code",
   "execution_count": 36,
   "id": "46fd8aa2",
   "metadata": {},
   "outputs": [
    {
     "data": {
      "text/plain": [
       "array([173, 175, 180, 178, 177, 185, 183, 182, 179, 179, 179])"
      ]
     },
     "execution_count": 36,
     "metadata": {},
     "output_type": "execute_result"
    }
   ],
   "source": [
    "# Для его проведения необходимо одинаковая длина выборок. \"Дорастим\" первые две до длины третьей их средними значениями:\n",
    "fut_app = np.append(fut, [round(μ_fut), round(μ_fut), round(μ_fut)])\n",
    "fut_app"
   ]
  },
  {
   "cell_type": "code",
   "execution_count": 37,
   "id": "deb88201",
   "metadata": {},
   "outputs": [
    {
     "data": {
      "text/plain": [
       "array([177, 179, 180, 188, 177, 172, 171, 184, 180, 179, 179])"
      ]
     },
     "execution_count": 37,
     "metadata": {},
     "output_type": "execute_result"
    }
   ],
   "source": [
    "hoc_app = np.append(hoc, [round(μ_hoc), round(μ_hoc)])\n",
    "hoc_app"
   ]
  },
  {
   "cell_type": "code",
   "execution_count": 38,
   "id": "ab11de2e",
   "metadata": {},
   "outputs": [
    {
     "name": "stdout",
     "output_type": "stream",
     "text": [
      "Multiple Comparison of Means - Tukey HSD, FWER=0.05 \n",
      "====================================================\n",
      "group1 group2 meandiff p-adj   lower   upper  reject\n",
      "----------------------------------------------------\n",
      "   bar    fut   6.3636 0.0053  1.7524 10.9748   True\n",
      "   bar    hoc      6.0 0.0087  1.3888 10.6112   True\n",
      "   fut    hoc  -0.3636 0.9794 -4.9748  4.2476  False\n",
      "----------------------------------------------------\n"
     ]
    }
   ],
   "source": [
    "df = pd.DataFrame({'height': [173, 175, 180, 178, 177, 185, 183, 182, 179, 179, 179,\n",
    "                              177, 179, 180, 188, 177, 172, 171, 184, 180, 179, 179,\n",
    "                              172, 173, 169, 177, 166, 180, 178, 177, 172, 166, 170],\n",
    "                   'group': np.repeat(['fut', 'hoc', 'bar'], repeats=11)})\n",
    "tukey = pairwise_tukeyhsd(endog=df['height'],\n",
    "                         groups=df['group'],\n",
    "                         alpha=0.05)\n",
    "print(tukey)"
   ]
  },
  {
   "cell_type": "markdown",
   "id": "a4a67475",
   "metadata": {},
   "source": [
    "Из результатов теста видно, что различия есть между ростом штангистов и футболистами/хоккеистами."
   ]
  }
 ],
 "metadata": {
  "kernelspec": {
   "display_name": "Python 3 (ipykernel)",
   "language": "python",
   "name": "python3"
  },
  "language_info": {
   "codemirror_mode": {
    "name": "ipython",
    "version": 3
   },
   "file_extension": ".py",
   "mimetype": "text/x-python",
   "name": "python",
   "nbconvert_exporter": "python",
   "pygments_lexer": "ipython3",
   "version": "3.9.13"
  }
 },
 "nbformat": 4,
 "nbformat_minor": 5
}
