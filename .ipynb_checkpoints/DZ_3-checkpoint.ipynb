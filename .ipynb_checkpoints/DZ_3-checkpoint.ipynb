{
 "cells": [
  {
   "cell_type": "markdown",
   "id": "eca918d3",
   "metadata": {},
   "source": [
    "ЗАДАЧА №1:\n",
    "\n",
    "Даны значения зарплат из выборки выпускников: 100, 80, 75, 77, 89, 33, 45, 25, 65, 17, 30, 24, 57, 55, 70, 75, 65, 84, 90, 150. Посчитать (желательно без использования статистических методов наподобие std, var, mean) среднее арифметическое, среднее квадратичное отклонение, смещенную и несмещенную оценки дисперсий для данной выборки."
   ]
  },
  {
   "cell_type": "code",
   "execution_count": 19,
   "id": "59457535",
   "metadata": {},
   "outputs": [],
   "source": [
    "# использование только для проверки\n",
    "import pandas as pd\n",
    "import numpy as np\n",
    "import math as m"
   ]
  },
  {
   "cell_type": "code",
   "execution_count": 20,
   "id": "6b33a082",
   "metadata": {},
   "outputs": [
    {
     "name": "stdout",
     "output_type": "stream",
     "text": [
      "[17, 24, 25, 30, 33, 45, 55, 57, 65, 65, 70, 75, 75, 77, 80, 84, 89, 90, 100, 150]\n"
     ]
    }
   ],
   "source": [
    "array = [100, 80, 75, 77, 89, 33, 45, 25, 65, 17, 30, 24, 57, 55, 70, 75, 65, 84, 90, 150]\n",
    "array.sort()\n",
    "print(array)"
   ]
  },
  {
   "cell_type": "code",
   "execution_count": 21,
   "id": "d4a3a301",
   "metadata": {},
   "outputs": [
    {
     "data": {
      "text/plain": [
       "65.3"
      ]
     },
     "execution_count": 21,
     "metadata": {},
     "output_type": "execute_result"
    }
   ],
   "source": [
    "# считаем среднее арифметическое\n",
    "summary = 0\n",
    "for item in array:\n",
    "    summary += item\n",
    "μ = summary/len(array)\n",
    "μ"
   ]
  },
  {
   "cell_type": "code",
   "execution_count": 22,
   "id": "40cba1a2",
   "metadata": {},
   "outputs": [
    {
     "data": {
      "text/plain": [
       "65.3"
      ]
     },
     "execution_count": 22,
     "metadata": {},
     "output_type": "execute_result"
    }
   ],
   "source": [
    "# проверка через готовую функцию\n",
    "μ_check = np.mean(array)\n",
    "μ_check"
   ]
  },
  {
   "cell_type": "code",
   "execution_count": 23,
   "id": "9e27ed10",
   "metadata": {},
   "outputs": [
    {
     "name": "stdout",
     "output_type": "stream",
     "text": [
      "[-48.3, -41.3, -40.3, -35.3, -32.3, -20.3, -10.3, -8.3, -0.3, -0.3, 4.7, 9.7, 9.7, 11.7, 14.7, 18.7, 23.7, 24.7, 34.7, 84.7]\n"
     ]
    }
   ],
   "source": [
    "# считаем среднее квадратичное отклонение по формуле 𝞼^𝟐 = (∑_от_𝒊=𝟏_до_𝒎((𝒙_𝒊 - μ) ^𝟐 )/𝒎\n",
    "# сначала посчитаем сумму отклонений от среднего арифметического значения, и возведем в квадрат, чтобы получить числитель\n",
    "sum_of_squared_deviations = 0\n",
    "array_deviations = []*len(array)\n",
    "for i in range(len(array)):\n",
    "    sum_of_squared_deviations += (array[i] - μ)**2\n",
    "    array_deviations.append(array[i] - μ)\n",
    "array_deviations_view = [round(array_deviations[y], 1) for y in range(len(array_deviations))]\n",
    "\n",
    "# получаем следующий список отклонений (без возведения в квадрат)\n",
    "print(array_deviations_view)"
   ]
  },
  {
   "cell_type": "code",
   "execution_count": 24,
   "id": "c1b57b4a",
   "metadata": {},
   "outputs": [
    {
     "data": {
      "text/plain": [
       "19002.2"
      ]
     },
     "execution_count": 24,
     "metadata": {},
     "output_type": "execute_result"
    }
   ],
   "source": [
    "# сам числитель:\n",
    "sum_of_squared_deviations"
   ]
  },
  {
   "cell_type": "code",
   "execution_count": 25,
   "id": "7887905d",
   "metadata": {},
   "outputs": [
    {
     "data": {
      "text/plain": [
       "30.823854398825596"
      ]
     },
     "execution_count": 25,
     "metadata": {},
     "output_type": "execute_result"
    }
   ],
   "source": [
    "# делим числитель на знаменатель, в котором число элементов начального списка и сразу вычисляем квадратный корень: \n",
    "σ = m.sqrt(sum_of_squared_deviations/len(array))\n",
    "σ"
   ]
  },
  {
   "cell_type": "code",
   "execution_count": 26,
   "id": "e70f5c67",
   "metadata": {},
   "outputs": [
    {
     "data": {
      "text/plain": [
       "30.823854398825592"
      ]
     },
     "execution_count": 26,
     "metadata": {},
     "output_type": "execute_result"
    }
   ],
   "source": [
    "# проверка через готовую функцию\n",
    "σ = np.std(array)\n",
    "σ"
   ]
  },
  {
   "cell_type": "code",
   "execution_count": 27,
   "id": "5a1b3512",
   "metadata": {},
   "outputs": [
    {
     "data": {
      "text/plain": [
       "950.11"
      ]
     },
     "execution_count": 27,
     "metadata": {},
     "output_type": "execute_result"
    }
   ],
   "source": [
    "# число элементов меньше 100, но мы все равно посчитаем смещенную дисперсию - так велит текст задачи\n",
    "shifted_variance = sum_of_squared_deviations/len(array)\n",
    "shifted_variance"
   ]
  },
  {
   "cell_type": "code",
   "execution_count": 28,
   "id": "3ccd6e08",
   "metadata": {},
   "outputs": [
    {
     "data": {
      "text/plain": [
       "950.1099999999999"
      ]
     },
     "execution_count": 28,
     "metadata": {},
     "output_type": "execute_result"
    }
   ],
   "source": [
    "# проверка через готовую функцию\n",
    "shifted_variance = np.var(array)\n",
    "shifted_variance"
   ]
  },
  {
   "cell_type": "code",
   "execution_count": 29,
   "id": "ecf9315c",
   "metadata": {},
   "outputs": [
    {
     "data": {
      "text/plain": [
       "1000.1157894736842"
      ]
     },
     "execution_count": 29,
     "metadata": {},
     "output_type": "execute_result"
    }
   ],
   "source": [
    "# посчитаем также несмещенную дисперсию\n",
    "unbiased_variance = sum_of_squared_deviations/(len(array)-1)\n",
    "unbiased_variance"
   ]
  },
  {
   "cell_type": "code",
   "execution_count": 30,
   "id": "72591481",
   "metadata": {},
   "outputs": [
    {
     "data": {
      "text/plain": [
       "1000.115789473684"
      ]
     },
     "execution_count": 30,
     "metadata": {},
     "output_type": "execute_result"
    }
   ],
   "source": [
    "# проверка через готовую функцию\n",
    "unbiased_variance = np.var(array, ddof=1)\n",
    "unbiased_variance"
   ]
  },
  {
   "cell_type": "markdown",
   "id": "733a42f8",
   "metadata": {},
   "source": [
    "ОТВЕТЫ ЗАДАЧИ №1:\n",
    "\n",
    "среднее арифметическое - 65,3\n",
    "\n",
    "среднее квадратичное отклонение - 30.8\n",
    "\n",
    "смещенная оценка дисперсии - 950.1\n",
    "\n",
    "несмещенная оценки дисперсии - 1000.1"
   ]
  },
  {
   "cell_type": "markdown",
   "id": "21bb15a7",
   "metadata": {},
   "source": [
    "ЗАДАЧА №2:\n",
    "\n",
    "В первом ящике находится 8 мячей, из которых 5 - белые. Во втором ящике - 12 мячей, из которых 5 белых. Из первого ящика вытаскивают случайным образом два мяча, из второго - 4. Какова вероятность того, что 3 мяча белые?"
   ]
  },
  {
   "cell_type": "code",
   "execution_count": 31,
   "id": "63d21c57",
   "metadata": {},
   "outputs": [
    {
     "data": {
      "text/plain": [
       "0.7936507936507938"
      ]
     },
     "execution_count": 31,
     "metadata": {},
     "output_type": "execute_result"
    }
   ],
   "source": [
    "from math import factorial as f\n",
    "def choose(n, k):\n",
    "    return f(n) / (f(k) * f(n - k))\n",
    "# для решения рассмотрим все случаи выпадания 3х белых шаров:\n",
    "# корзина 1           корзина 2\n",
    "# ББ                  БЧЧЧ\n",
    "# БЧ                  ББЧЧ\n",
    "# ЧЧ                  БББЧ\n",
    "P = ((choose(5, 2) / choose(8, 2)) * (choose(5, 1) / choose(12, 4)) + (choose(5, 1) / choose(8, 2)) * (choose(5, 2) / choose(12, 4)) + (choose(5, 0) / choose(8, 2)) * (choose(5, 3) / choose(12, 4)))*100\n",
    "P"
   ]
  },
  {
   "cell_type": "markdown",
   "id": "fbb3edc0",
   "metadata": {},
   "source": [
    "ОТВЕТ ЗАДАЧИ №2: Вероятность выпадания 3х белых шаров равна 0,79%"
   ]
  },
  {
   "cell_type": "markdown",
   "id": "e58bc441",
   "metadata": {},
   "source": [
    "ЗАДАЧА №3:\n",
    "\n",
    "На соревновании по биатлону один из трех спортсменов стреляет и попадает в мишень. Вероятность попадания для первого спортсмена равна 0.9, для второго — 0.8, для третьего — 0.6. Найти вероятность того, что выстрел произведен: a). первым спортсменом б). вторым спортсменом в). третьим спортсменом."
   ]
  },
  {
   "cell_type": "code",
   "execution_count": 32,
   "id": "31417dc8",
   "metadata": {},
   "outputs": [
    {
     "data": {
      "text/plain": [
       "39.130434782608695"
      ]
     },
     "execution_count": 32,
     "metadata": {},
     "output_type": "execute_result"
    }
   ],
   "source": [
    "# решаем задачу как отношение вероятности выстрела каждым спортсменом на количество выстрелов,\n",
    "# деленное на общую вероятность попадания\n",
    "shooter1 = ( (1/3 * 0.9) / (1/3 * 0.9 + 1/3 * 0.8 + 1/3 * 0.6) ) * 100\n",
    "shooter1"
   ]
  },
  {
   "cell_type": "code",
   "execution_count": 33,
   "id": "44fd4a09",
   "metadata": {},
   "outputs": [
    {
     "data": {
      "text/plain": [
       "34.78260869565218"
      ]
     },
     "execution_count": 33,
     "metadata": {},
     "output_type": "execute_result"
    }
   ],
   "source": [
    "shooter2 = ( (1/3 * 0.8) / (1/3 * 0.9 + 1/3 * 0.8 + 1/3 * 0.6) ) * 100\n",
    "shooter2"
   ]
  },
  {
   "cell_type": "code",
   "execution_count": 34,
   "id": "3cf57883",
   "metadata": {},
   "outputs": [
    {
     "data": {
      "text/plain": [
       "26.08695652173913"
      ]
     },
     "execution_count": 34,
     "metadata": {},
     "output_type": "execute_result"
    }
   ],
   "source": [
    "shooter3 = ( (1/3 * 0.6) / (1/3 * 0.9 + 1/3 * 0.8 + 1/3 * 0.6) ) * 100\n",
    "shooter3"
   ]
  },
  {
   "cell_type": "markdown",
   "id": "ce2705c8",
   "metadata": {},
   "source": [
    "ОТВЕТЫ ЗАДАЧИ №3: Вероятность, что выстрел произведен первым спортсменом составляет 39%, вторым - 35%, третьим - 26%."
   ]
  },
  {
   "cell_type": "markdown",
   "id": "02f4bd70",
   "metadata": {},
   "source": [
    "ЗАДАЧА №4:\n",
    "    \n",
    "В университет на факультеты A и B поступило равное количество студентов, а на факультет C студентов поступило столько же, сколько на A и B вместе. Вероятность того, что студент факультета A сдаст первую сессию, равна 0.8. Для студента факультета B эта вероятность равна 0.7, а для студента факультета C - 0.9. Студент сдал первую сессию. Какова вероятность, что он учится: a). на факультете A б). на факультете B в). на факультете C?"
   ]
  },
  {
   "cell_type": "code",
   "execution_count": 35,
   "id": "3460466b",
   "metadata": {},
   "outputs": [
    {
     "data": {
      "text/plain": [
       "22.641509433962266"
      ]
     },
     "execution_count": 35,
     "metadata": {},
     "output_type": "execute_result"
    }
   ],
   "source": [
    "# логика решения такая же, как и у задачи №3\n",
    "faculty1 = ( (1/4 * 0.8) / (1/4 * 0.8 + 1/3 * 0.7 + 1/2 * 0.9) ) * 100\n",
    "faculty1"
   ]
  },
  {
   "cell_type": "code",
   "execution_count": 36,
   "id": "a96ae659",
   "metadata": {},
   "outputs": [
    {
     "data": {
      "text/plain": [
       "19.81132075471698"
      ]
     },
     "execution_count": 36,
     "metadata": {},
     "output_type": "execute_result"
    }
   ],
   "source": [
    "faculty2 = ( (1/4 * 0.7) / (1/4 * 0.8 + 1/3 * 0.7 + 1/2 * 0.9) ) * 100\n",
    "faculty2"
   ]
  },
  {
   "cell_type": "code",
   "execution_count": 37,
   "id": "40b01479",
   "metadata": {},
   "outputs": [
    {
     "data": {
      "text/plain": [
       "50.943396226415096"
      ]
     },
     "execution_count": 37,
     "metadata": {},
     "output_type": "execute_result"
    }
   ],
   "source": [
    "faculty3 = ( (1/2 * 0.9) / (1/4 * 0.8 + 1/3 * 0.7 + 1/2 * 0.9) ) * 100\n",
    "faculty3"
   ]
  },
  {
   "cell_type": "markdown",
   "id": "f9fbf1e9",
   "metadata": {},
   "source": [
    "ОТВЕТЫ ЗАДАЧИ №4: Вероятность, что студент учится на факультете А составляет 23%, В - 20%, С - 51%."
   ]
  },
  {
   "cell_type": "markdown",
   "id": "61df8b23",
   "metadata": {},
   "source": [
    "ЗАДАЧА №5:\n",
    "    \n",
    "Устройство состоит из трех деталей. Для первой детали вероятность выйти из строя в первый месяц равна 0.1, для второй - 0.2, для третьей - 0.25. Какова вероятность того, что в первый месяц выйдут из строя: а). все детали б). только две детали в). хотя бы одна деталь г). от одной до двух деталей?"
   ]
  },
  {
   "cell_type": "code",
   "execution_count": 42,
   "id": "1c1453d4",
   "metadata": {},
   "outputs": [
    {
     "data": {
      "text/plain": [
       "0.5000000000000001"
      ]
     },
     "execution_count": 42,
     "metadata": {},
     "output_type": "execute_result"
    }
   ],
   "source": [
    "# \"все три детали\" - для первой ситуации считаем вероятность через произведение:\n",
    "otvet_1 = 0.1 * 0.2 * 0.25 * 100\n",
    "otvet_1"
   ]
  },
  {
   "cell_type": "code",
   "execution_count": 46,
   "id": "7b73ec18",
   "metadata": {},
   "outputs": [
    {
     "data": {
      "text/plain": [
       "8.000000000000002"
      ]
     },
     "execution_count": 46,
     "metadata": {},
     "output_type": "execute_result"
    }
   ],
   "source": [
    "# \"только две детали\" - для второй ситуации решаем через сумму трех вариантов:\n",
    "otvet_2 = ( 0.1 * 0.2 * (1 - 0.25) + 0.1 * (1 - 0.2) * 0.25 + (1 - 0.1) * 0.2 * 0.25 ) * 100\n",
    "otvet_2"
   ]
  },
  {
   "cell_type": "code",
   "execution_count": 47,
   "id": "4e5942fc",
   "metadata": {},
   "outputs": [
    {
     "data": {
      "text/plain": [
       "37.5"
      ]
     },
     "execution_count": 47,
     "metadata": {},
     "output_type": "execute_result"
    }
   ],
   "source": [
    "# \"хотя бы одна деталь\" - для третьей ситуации решаем через сумму трех вариантов:\n",
    "otvet_3 = ( 0.1 * (1 - 0.2) * (1 - 0.25) + (1 - 0.1) * 0.2 * (1 - 0.25) + (1 - 0.1) * (1 - 0.2) * 0.25 ) * 100\n",
    "otvet_3"
   ]
  },
  {
   "cell_type": "code",
   "execution_count": 48,
   "id": "f6ca5310",
   "metadata": {},
   "outputs": [
    {
     "data": {
      "text/plain": [
       "45.50000000000001"
      ]
     },
     "execution_count": 48,
     "metadata": {},
     "output_type": "execute_result"
    }
   ],
   "source": [
    "# \"от одной до двух деталей\" - для четвертой ситуации решаем через сумму шести вариантов:\n",
    "otvet_4 = ( 0.1 * 0.2 * (1 - 0.25) + 0.1 * (1 - 0.2) * 0.25 + (1 - 0.1) * 0.2 * 0.25 + 0.1 * (1 - 0.2) * (1 - 0.25) + (1 - 0.1) * 0.2 * (1 - 0.25) + (1 - 0.1) * (1 - 0.2) * 0.25 ) * 100\n",
    "otvet_4"
   ]
  },
  {
   "cell_type": "markdown",
   "id": "8f39c558",
   "metadata": {},
   "source": [
    "ОТВЕТЫ ЗАДАЧИ №5: Вероятности: а) 0,5%, б) 8%, в) 37,5%, г) 45,5%."
   ]
  }
 ],
 "metadata": {
  "kernelspec": {
   "display_name": "Python 3 (ipykernel)",
   "language": "python",
   "name": "python3"
  },
  "language_info": {
   "codemirror_mode": {
    "name": "ipython",
    "version": 3
   },
   "file_extension": ".py",
   "mimetype": "text/x-python",
   "name": "python",
   "nbconvert_exporter": "python",
   "pygments_lexer": "ipython3",
   "version": "3.9.13"
  }
 },
 "nbformat": 4,
 "nbformat_minor": 5
}
