{
 "cells": [
  {
   "cell_type": "code",
   "execution_count": 24,
   "id": "534e8fed",
   "metadata": {},
   "outputs": [],
   "source": [
    "import numpy as np\n",
    "import scipy.stats as stats"
   ]
  },
  {
   "cell_type": "markdown",
   "id": "e9638e2a",
   "metadata": {},
   "source": [
    "1-4 задачи решать с помощью функций, 5ю вручную. Выбрать тест и проверить, есть ли различия между выборками:\n",
    "\n",
    "ЗАДАЧА №1.  Даны две  независимые выборки. Не соблюдается условие нормальности. x1: 380, 420, 290. y1: 140, 360, 200, 900. Сделайте вывод по результатам, полученным с помощью функции."
   ]
  },
  {
   "cell_type": "code",
   "execution_count": 25,
   "id": "6ab2b28c",
   "metadata": {},
   "outputs": [
    {
     "data": {
      "text/plain": [
       "MannwhitneyuResult(statistic=8.0, pvalue=0.6285714285714286)"
      ]
     },
     "execution_count": 25,
     "metadata": {},
     "output_type": "execute_result"
    }
   ],
   "source": [
    "x1 = np.array([380, 420, 290])\n",
    "y1 = np.array([140, 360, 200, 900])\n",
    "# Из условия задачи: две независимых выборка и не нормальное распределение. Поэтому применяем критерий Манна-Уитни:\n",
    "stats.mannwhitneyu(x1, y1)"
   ]
  },
  {
   "cell_type": "markdown",
   "id": "625dbd1e",
   "metadata": {},
   "source": [
    "ОТВЕТ ЗАДАЧИ №1: Поскольку значение pvalue 0,63 больше, чем α 0.05 (5%) - делаем вывод, что между выборками нет значимых различий."
   ]
  },
  {
   "cell_type": "markdown",
   "id": "58c2d73a",
   "metadata": {},
   "source": [
    "ЗАДАЧА №2. Исследовалось влияние препарата на уровень давления пациентов. Сначала измерялось давление до приема препарата, потом через 10 минут и через 30 минут. Есть ли статистически значимые различия?\n",
    "1е измерение до приема препарата: 150, 160, 165, 145, 155.\n",
    "2е измерение через 10 минут: 140, 155, 150,  130, 135.\n",
    "3е измерение через 30 минут: 130, 130, 120, 130, 125."
   ]
  },
  {
   "cell_type": "code",
   "execution_count": 26,
   "id": "18f2943a",
   "metadata": {},
   "outputs": [
    {
     "data": {
      "text/plain": [
       "FriedmanchisquareResult(statistic=9.578947368421062, pvalue=0.00831683351100441)"
      ]
     },
     "execution_count": 26,
     "metadata": {},
     "output_type": "execute_result"
    }
   ],
   "source": [
    "x1 = np.array([150, 160, 165, 145, 155])\n",
    "x2 = np.array([140, 155, 150,  130, 135])\n",
    "x3 = np.array([130, 130, 120, 130, 125])\n",
    "# Поскольку имеем более 2-х выборок и они очевидно зависимы - делаем анализ повторных изменений (критерий Фридмана):\n",
    "stats.friedmanchisquare(x1, x2, x3)"
   ]
  },
  {
   "cell_type": "markdown",
   "id": "a6e487b8",
   "metadata": {},
   "source": [
    "ОТВЕТ ЗАДАЧИ №2: Поскольку значение pvalue 0.008 меньше, чем α 0.05 (5%) - делаем вывод, что между выборками есть статистически значимые различия."
   ]
  },
  {
   "cell_type": "markdown",
   "id": "123c0824",
   "metadata": {},
   "source": [
    "ЗАДАЧА №3. Сравните 1 и 2 е измерения, предполагая, что 3го измерения через 30 минут не было."
   ]
  },
  {
   "cell_type": "code",
   "execution_count": 27,
   "id": "f14fd8b1",
   "metadata": {},
   "outputs": [
    {
     "data": {
      "text/plain": [
       "WilcoxonResult(statistic=0.0, pvalue=0.0625)"
      ]
     },
     "execution_count": 27,
     "metadata": {},
     "output_type": "execute_result"
    }
   ],
   "source": [
    "# Поскольку теперь выборок только 2, они также зависимы - используем критерий Уилкоксона:\n",
    "stats.wilcoxon(x1, x2)"
   ]
  },
  {
   "cell_type": "markdown",
   "id": "4b1855e0",
   "metadata": {},
   "source": [
    "ОТВЕТ ЗАДАЧИ №3: Поскольку значение pvalue 0,063 больше, чем α 0.05 (5%) - делаем вывод, что между выборками нет значимых различий."
   ]
  },
  {
   "cell_type": "markdown",
   "id": "362884b3",
   "metadata": {},
   "source": [
    "ЗАДАЧА №4. Даны 3 группы  учеников плавания.\n",
    "В первой группе время на дистанцию 50 м составляют: 56, 60, 62, 55, 71, 67, 59, 58, 64, 67.\n",
    "Вторая группа : 57, 58, 69, 48, 72, 70, 68, 71, 50, 53.\n",
    "Третья группа: 57, 67, 49, 48, 47, 55, 66, 51, 54."
   ]
  },
  {
   "cell_type": "code",
   "execution_count": 28,
   "id": "91f256cd",
   "metadata": {},
   "outputs": [
    {
     "data": {
      "text/plain": [
       "KruskalResult(statistic=5.465564058257224, pvalue=0.0650380998590494)"
      ]
     },
     "execution_count": 28,
     "metadata": {},
     "output_type": "execute_result"
    }
   ],
   "source": [
    "group_1 = np.array([56, 60, 62, 55, 71, 67, 59, 58, 64, 67])\n",
    "group_2 = np.array([57, 58, 69, 48, 72, 70, 68, 71, 50, 53])\n",
    "group_3 = np.array([57, 67, 49, 48, 47, 55, 66, 51, 54])\n",
    "# Поскольку имеем более 2-х выборок и они очевидно независимы - используем критерий Крускала-Уоллиса:\n",
    "stats.kruskal(group_1, group_2, group_3)"
   ]
  },
  {
   "cell_type": "markdown",
   "id": "e3d17f5b",
   "metadata": {},
   "source": [
    "ОТВЕТ ЗАДАЧИ №4: Поскольку значение pvalue 0,065 больше, чем α 0.05 (5%) - делаем вывод, что между выборками нет значимых различий."
   ]
  },
  {
   "cell_type": "markdown",
   "id": "e0a9793f",
   "metadata": {},
   "source": [
    "ЗАДАЧА №5. Заявляется, что партия изготавливается со средним арифметическим 2,5 см. Проверить данную гипотезу, если известно, что размеры изделий подчинены нормальному закону распределения. Объем выборки 10, уровень статистической значимости 5%. Значения: 2.51, 2.35, 2.74, 2.56, 2.40, 2.36, 2.65, 2.7, 2.67, 2.34."
   ]
  },
  {
   "cell_type": "code",
   "execution_count": 29,
   "id": "52e582d6",
   "metadata": {},
   "outputs": [
    {
     "data": {
      "text/plain": [
       "(2.5279999999999996, 0.1572542173961923)"
      ]
     },
     "execution_count": 29,
     "metadata": {},
     "output_type": "execute_result"
    }
   ],
   "source": [
    "# Из условия задачи знаем:\n",
    "μ0 = 2.5\n",
    "n = 10\n",
    "array = np.array([2.51, 2.35, 2.74, 2.56, 2.40, 2.36, 2.65, 2.7, 2.67, 2.34])\n",
    "# Посчитаем среднее значение и выборочную сигму (несмещенность):\n",
    "μ1 = np.mean(array)\n",
    "σ = np.std(array,ddof=1)\n",
    "μ1, σ"
   ]
  },
  {
   "cell_type": "code",
   "execution_count": 30,
   "id": "4123d0dc",
   "metadata": {},
   "outputs": [
    {
     "data": {
      "text/plain": [
       "0.5630613661802959"
      ]
     },
     "execution_count": 30,
     "metadata": {},
     "output_type": "execute_result"
    }
   ],
   "source": [
    "# Нулевая гипотеза \"μ0 = 2.5\", альтернативная - \"μ0 > 2.5\"\n",
    "# Вычисляем наблюдаемое значение критерия:\n",
    "U_observable = (μ1-μ0)/(σ/np.sqrt(n))\n",
    "U_observable"
   ]
  },
  {
   "cell_type": "code",
   "execution_count": 31,
   "id": "cc952f28",
   "metadata": {},
   "outputs": [
    {
     "data": {
      "text/plain": [
       "2.2621571627409915"
      ]
     },
     "execution_count": 31,
     "metadata": {},
     "output_type": "execute_result"
    }
   ],
   "source": [
    "# Сигма генеральной совокупности не известна, поэтому применяем критерий Стьюдента:\n",
    "t = stats.t.ppf(0.975, (n - 1))\n",
    "t"
   ]
  },
  {
   "cell_type": "markdown",
   "id": "5c14fdd0",
   "metadata": {},
   "source": [
    "ОТВЕТ ЗАДАЧИ №5: Поскольку наблюдаемое значение 0,56 меньше, чем t-значение, значит подтверждается нулевая гипотеза - партия изготавливается со средним арифметическим 2,5см."
   ]
  }
 ],
 "metadata": {
  "kernelspec": {
   "display_name": "Python 3 (ipykernel)",
   "language": "python",
   "name": "python3"
  },
  "language_info": {
   "codemirror_mode": {
    "name": "ipython",
    "version": 3
   },
   "file_extension": ".py",
   "mimetype": "text/x-python",
   "name": "python",
   "nbconvert_exporter": "python",
   "pygments_lexer": "ipython3",
   "version": "3.9.13"
  }
 },
 "nbformat": 4,
 "nbformat_minor": 5
}
