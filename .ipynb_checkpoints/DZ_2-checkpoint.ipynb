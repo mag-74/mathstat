{
 "cells": [
  {
   "cell_type": "code",
   "execution_count": 40,
   "id": "a632609c",
   "metadata": {},
   "outputs": [],
   "source": [
    "import numpy as np\n",
    "from math import factorial as f\n",
    "\n",
    "def choose(n, k):\n",
    "    return f(n) / (f(k) * f(n - k))\n",
    "\n",
    "def bernulli(p, n, k):\n",
    "    return choose(n, k) * p**(k) * (1 - p)**(n - k)\n",
    "\n",
    "def puasson(p, n, k):\n",
    "    lambda_ = n * p\n",
    "    return (lambda_**k / f(k)) * np.exp(-lambda_)"
   ]
  },
  {
   "cell_type": "markdown",
   "id": "5bf2218f",
   "metadata": {},
   "source": [
    "Задача 1. Вероятность того, что стрелок попадет в мишень, выстрелив один раз, равна 0.8. Стрелок выстрелил 100 раз. Найдите вероятность того, что стрелок попадет в цель ровно 85 раз."
   ]
  },
  {
   "cell_type": "code",
   "execution_count": 41,
   "id": "8ad87239",
   "metadata": {},
   "outputs": [
    {
     "data": {
      "text/plain": [
       "4.806179370074635"
      ]
     },
     "execution_count": 41,
     "metadata": {},
     "output_type": "execute_result"
    }
   ],
   "source": [
    "# имеем биноминальное распределение, поскольку известна точная вероятность и небольшое количество испытаний\n",
    "# применяем формулу Бернулли:\n",
    "p = 0.8\n",
    "n = 100\n",
    "k = 85\n",
    "otvet = bernulli(p, n, k)*100\n",
    "otvet"
   ]
  },
  {
   "cell_type": "markdown",
   "id": "a1e068df",
   "metadata": {},
   "source": [
    "Ответ задачи 1: Вероятность того, что стрелок попадет в цель 85 раз из 100 равна 4,8%"
   ]
  },
  {
   "cell_type": "markdown",
   "id": "e11aa32d",
   "metadata": {},
   "source": [
    "Задача 2. Вероятность того, что лампочка перегорит в течение первого дня эксплуатации, равна 0.0004. В жилом комплексе после ремонта в один день включили 5000 новых лампочек. Какова вероятность, что ни одна из них не перегорит в первый день? Какова вероятность, что перегорят ровно две?"
   ]
  },
  {
   "cell_type": "code",
   "execution_count": 42,
   "id": "c2d7e8b2",
   "metadata": {},
   "outputs": [
    {
     "data": {
      "text/plain": [
       "13.53352832366127"
      ]
     },
     "execution_count": 42,
     "metadata": {},
     "output_type": "execute_result"
    }
   ],
   "source": [
    "# имеем распределение Пуассона, поскольку вероятность крайне мала и число испытаний значительно\n",
    "# для решения первой подзадачи применим сначала формулу Пуассона, а потом применим формулу Бернулли\n",
    "# как на семинаре чтобы сверить 2 результата\n",
    "k = 0\n",
    "n = 5000\n",
    "p = 0.0004\n",
    "otvet1_1 = puasson(p, n, k)*100\n",
    "otvet1_1"
   ]
  },
  {
   "cell_type": "code",
   "execution_count": 43,
   "id": "4df1053e",
   "metadata": {},
   "outputs": [
    {
     "data": {
      "text/plain": [
       "13.528114551440707"
      ]
     },
     "execution_count": 43,
     "metadata": {},
     "output_type": "execute_result"
    }
   ],
   "source": [
    "otvet1_2 = bernulli(p, n, k)*100\n",
    "otvet1_2"
   ]
  },
  {
   "cell_type": "code",
   "execution_count": 44,
   "id": "1c2f3687",
   "metadata": {},
   "outputs": [
    {
     "data": {
      "text/plain": [
       "0.005413772220563828"
      ]
     },
     "execution_count": 44,
     "metadata": {},
     "output_type": "execute_result"
    }
   ],
   "source": [
    "otvet1_1 - otvet1_2"
   ]
  },
  {
   "cell_type": "code",
   "execution_count": 45,
   "id": "51db59b4",
   "metadata": {},
   "outputs": [
    {
     "data": {
      "text/plain": [
       "27.06705664732254"
      ]
     },
     "execution_count": 45,
     "metadata": {},
     "output_type": "execute_result"
    }
   ],
   "source": [
    "# для второй подзадачи считаем как положено по формуле товарища Пуассона\n",
    "k = 2\n",
    "otvet2 = puasson(p, n, k)*100\n",
    "otvet2"
   ]
  },
  {
   "cell_type": "markdown",
   "id": "2f199563",
   "metadata": {},
   "source": [
    "Ответы задачи 2:\n",
    "1) Вероятность того, что ни одна не перегорит в первый день равна 13,5% (примечание: применение разных формул дало разницу 0.0054%);\n",
    "\n",
    "2) Перегорят ровно две - 27,1%."
   ]
  },
  {
   "cell_type": "markdown",
   "id": "22d86fff",
   "metadata": {},
   "source": [
    "Задача 3. Монету подбросили 144 раза. Какова вероятность, что орел выпадет ровно 70 раз?"
   ]
  },
  {
   "cell_type": "code",
   "execution_count": 47,
   "id": "41ebef19",
   "metadata": {},
   "outputs": [
    {
     "data": {
      "text/plain": [
       "6.281178035144776"
      ]
     },
     "execution_count": 47,
     "metadata": {},
     "output_type": "execute_result"
    }
   ],
   "source": [
    "# имеем биноминальное распределение, поскольку оговорено в условии задачи небольшое количество испытаний\n",
    "p = 0.5\n",
    "n = 144\n",
    "k = 70\n",
    "otvet = bernulli(p, n, k)*100\n",
    "otvet"
   ]
  },
  {
   "cell_type": "markdown",
   "id": "93e52dbf",
   "metadata": {},
   "source": [
    "Ответ задачи 3: Вероятность того, что монета выпадет ровно 70 раз из 144 попыток равна 6,3%"
   ]
  },
  {
   "cell_type": "markdown",
   "id": "fb618032",
   "metadata": {},
   "source": [
    "Задача 4. В первом ящике находится 10 мячей, из которых 7 белых. Во втором ящике - 11 мячей, из которых 9 белых. Из каждого ящика вытаскивают случайным образом по два мяча.\n",
    "\n",
    "1) Какова вероятность того, что все мячи белые?\n",
    "\n",
    "2) Какова вероятность того, что ровно два мяча белые?\n",
    "\n",
    "3) Какова вероятность того, что хотя бы один мяч белый?"
   ]
  },
  {
   "cell_type": "markdown",
   "id": "6c465b5b",
   "metadata": {},
   "source": [
    "Вероятность события — это отношение числа элементарных исходов, благоприятствующих данному событию, к числу всех равновозможных исходов опыта, в котором оно может появиться"
   ]
  },
  {
   "cell_type": "code",
   "execution_count": 51,
   "id": "973df7b7",
   "metadata": {},
   "outputs": [
    {
     "data": {
      "text/plain": [
       "30.545454545454547"
      ]
     },
     "execution_count": 51,
     "metadata": {},
     "output_type": "execute_result"
    }
   ],
   "source": [
    "# для подзадачи 1 считаем вероятность умножением вероятностей выпадения по два белых шарика из каждой корзины \n",
    "otvet1 = (choose(7, 2) / choose(10, 2)) * (choose(9, 2) / choose(11, 2))*100\n",
    "otvet1"
   ]
  },
  {
   "cell_type": "code",
   "execution_count": 54,
   "id": "3f76f06e",
   "metadata": {},
   "outputs": [
    {
     "data": {
      "text/plain": [
       "20.484848484848484"
      ]
     },
     "execution_count": 54,
     "metadata": {},
     "output_type": "execute_result"
    }
   ],
   "source": [
    "# для подзадачи 2 считаем вероятность 6 вариаций события: (бб)(чч)+(бч)(бч)+(бч)(чб)+(чб)(бч)+(чб)(чб)+(чч)(бб)\n",
    "otvet2 = ( (7/10)*(6/9)*(2/11)*(1/10) + (7/10)*(3/9)*(9/11)*(2/10) + (7/10)*(3/9)*(2/11)*(9/10) + (3/10)*(7/9)*(9/11)*(2/10) + (3/10)*(7/9)*(2/11)*(9/10) + (3/10)*(2/9)*(9/11)*(8/10) )*100\n",
    "otvet2"
   ]
  },
  {
   "cell_type": "code",
   "execution_count": 3,
   "id": "121a30a7",
   "metadata": {},
   "outputs": [
    {
     "data": {
      "text/plain": [
       "99.87878787878788"
      ]
     },
     "execution_count": 3,
     "metadata": {},
     "output_type": "execute_result"
    }
   ],
   "source": [
    "# для подзадачи 3 принимаем за единицу вероятность выпадения всех 4 шаров, черных.\n",
    "# Тогда вероятность выпадения хотя бы одного белого шара считаем от обратного:\n",
    "otvet3 = (1-(3/10*2/9*2/11*1/10))*100\n",
    "otvet3"
   ]
  },
  {
   "cell_type": "markdown",
   "id": "0f1035ee",
   "metadata": {},
   "source": [
    "Ответы задачи 4: 1)30,5%; 2)20,5%; 3)99,9%."
   ]
  },
  {
   "cell_type": "code",
   "execution_count": null,
   "id": "e0ea3a25",
   "metadata": {},
   "outputs": [],
   "source": []
  }
 ],
 "metadata": {
  "kernelspec": {
   "display_name": "Python 3 (ipykernel)",
   "language": "python",
   "name": "python3"
  },
  "language_info": {
   "codemirror_mode": {
    "name": "ipython",
    "version": 3
   },
   "file_extension": ".py",
   "mimetype": "text/x-python",
   "name": "python",
   "nbconvert_exporter": "python",
   "pygments_lexer": "ipython3",
   "version": "3.9.13"
  }
 },
 "nbformat": 4,
 "nbformat_minor": 5
}
