{
 "cells": [
  {
   "cell_type": "code",
   "execution_count": 82,
   "id": "023784dd",
   "metadata": {},
   "outputs": [],
   "source": [
    "import numpy as np"
   ]
  },
  {
   "cell_type": "markdown",
   "id": "59e87126",
   "metadata": {},
   "source": [
    "ЗАДАЧА №1. Случайная непрерывная величина A имеет равномерное распределение на промежутке (200, 800].\n",
    "Найдите ее среднее значение и дисперсию."
   ]
  },
  {
   "cell_type": "code",
   "execution_count": 83,
   "id": "4e697f3a",
   "metadata": {},
   "outputs": [
    {
     "data": {
      "text/plain": [
       "500.5"
      ]
     },
     "execution_count": 83,
     "metadata": {},
     "output_type": "execute_result"
    }
   ],
   "source": [
    "# среднее значение - математическое ожидание (левая граница промежутка судя по скобке не включительно):\n",
    "M = (201 + 800) / 2\n",
    "M"
   ]
  },
  {
   "cell_type": "code",
   "execution_count": 84,
   "id": "6d00ad81",
   "metadata": {},
   "outputs": [
    {
     "data": {
      "text/plain": [
       "29900.083333333332"
      ]
     },
     "execution_count": 84,
     "metadata": {},
     "output_type": "execute_result"
    }
   ],
   "source": [
    "# дисперсия:\n",
    "D = ((800 - 201)**2)/12\n",
    "D"
   ]
  },
  {
   "cell_type": "markdown",
   "id": "ed63e427",
   "metadata": {},
   "source": [
    "ОТВЕТЫ ЗАДАЧИ №1: среднее значение - 500,5; дисперсия - 29900,08"
   ]
  },
  {
   "cell_type": "markdown",
   "id": "ecdaf3c9",
   "metadata": {},
   "source": [
    "ЗАДАЧА №2. О случайной непрерывной равномерно распределенной величине B известно, что ее дисперсия равна 0.2.\n",
    "Можно ли найти правую границу величины B и ее среднее значение зная, что левая граница равна 0.5?\n",
    "Если да, найдите ее."
   ]
  },
  {
   "cell_type": "code",
   "execution_count": 85,
   "id": "aa942206",
   "metadata": {},
   "outputs": [
    {
     "data": {
      "text/plain": [
       "1.0491933384829668"
      ]
     },
     "execution_count": 85,
     "metadata": {},
     "output_type": "execute_result"
    }
   ],
   "source": [
    "# для решения используем формулу расчета дисперсии, где D(X) = ((a+b)**2)/12\n",
    "a = 0.5\n",
    "D_x = 0.2\n",
    "#  подставим значения в формулу 0.2 * 12 = (0.5 + b)**2 и выведем b:\n",
    "b = np.sqrt(2.4) - 0.5\n",
    "b"
   ]
  },
  {
   "cell_type": "code",
   "execution_count": 86,
   "id": "359e21b9",
   "metadata": {},
   "outputs": [
    {
     "data": {
      "text/plain": [
       "0.7745966692414834"
      ]
     },
     "execution_count": 86,
     "metadata": {},
     "output_type": "execute_result"
    }
   ],
   "source": [
    "# зная вторую границу, посчитаем среднее значение по формуле:\n",
    "M = (0.5 + b) / 2\n",
    "M"
   ]
  },
  {
   "cell_type": "markdown",
   "id": "b0b584c4",
   "metadata": {},
   "source": [
    "ОТВЕТЫ ЗАДАЧИ №2: вторая граница диапазона - 1,05, среднее значение - 0,775"
   ]
  },
  {
   "cell_type": "markdown",
   "id": "45fe6d25",
   "metadata": {},
   "source": [
    "ЗАДАЧА №3.  Непрерывная случайная величина X распределена нормально и задана плотностью распределения\n",
    "\n",
    "f(x) = (1 / (4 * sqrt(2pi))) * exp((-(x+2)**2) / 32)\n",
    "\n",
    "Найдите: а) M(X); б) D(X); в) std(X) (среднее квадратичное отклонение)"
   ]
  },
  {
   "cell_type": "markdown",
   "id": "ed524c1b",
   "metadata": {},
   "source": [
    "ОТВЕТЫ ЗАДАЧИ №3: из анализа выражения M(X)= -2; D(X)= 16; std(X)= 4"
   ]
  },
  {
   "cell_type": "markdown",
   "id": "26f4077b",
   "metadata": {},
   "source": [
    "ЗАДАЧА №4. Рост взрослого населения города X имеет нормальное распределение.\n",
    "Причем, средний рост равен 174 см, а среднее квадратичное отклонение равно 8 см.\n",
    "Какова вероятность того, что случайным образом выбранный взрослый человек имеет рост:\n",
    "\n",
    "а) больше 182 см\n",
    "\n",
    "б) больше 190 см\n",
    "\n",
    "в) от 166 см до 190 см\n",
    "\n",
    "г) от 166 см до 182 см\n",
    "\n",
    "д) от 158 см до 190 см\n",
    "\n",
    "е) не выше 150 см или не ниже 190 см\n",
    "\n",
    "ё) не выше 150 см или не ниже 198 см\n",
    "\n",
    "ж) ниже 166 см."
   ]
  },
  {
   "cell_type": "code",
   "execution_count": 87,
   "id": "cdc42da8",
   "metadata": {},
   "outputs": [],
   "source": [
    "# пропишем формулы для нормализации значений, где значения: заданное значение, среднее значение, сигма (D(x))\n",
    "def normalization_sigma(x, mu, sigma):\n",
    "    return (x - mu)/sigma\n",
    "\n",
    "def normalization_D_x(x, mu, D_x):\n",
    "    return (x - mu)/np.sqrt(D_x)"
   ]
  },
  {
   "cell_type": "code",
   "execution_count": 88,
   "id": "c7e2589d",
   "metadata": {},
   "outputs": [],
   "source": [
    "# по условию задачи знаем:\n",
    "mu = 174\n",
    "sigma = 8"
   ]
  },
  {
   "cell_type": "code",
   "execution_count": 89,
   "id": "4847f6e4",
   "metadata": {},
   "outputs": [
    {
     "data": {
      "text/plain": [
       "1.0"
      ]
     },
     "execution_count": 89,
     "metadata": {},
     "output_type": "execute_result"
    }
   ],
   "source": [
    "# а) больше 182 см\n",
    "Z = normalization_sigma(182, mu, sigma)\n",
    "Z"
   ]
  },
  {
   "cell_type": "markdown",
   "id": "267310cb",
   "metadata": {},
   "source": [
    "Для дальнейшей работы используем т.н. Z-таблицы:\n",
    "![при отрицательном значении](z_table_negative.png)\n",
    "![при положительном значении](z_table_positive.png)"
   ]
  },
  {
   "cell_type": "code",
   "execution_count": 90,
   "id": "db329a0e",
   "metadata": {},
   "outputs": [
    {
     "data": {
      "text/plain": [
       "15.87"
      ]
     },
     "execution_count": 90,
     "metadata": {},
     "output_type": "execute_result"
    }
   ],
   "source": [
    "# по таблице находим значение для нашего 1.0 - получаем 0,8413\n",
    "# далее отнимаем это число от 1, поскольку искомые значения лежат правее:\n",
    "P_percent = round((1 - 0.8413) * 100, 2)\n",
    "P_percent"
   ]
  },
  {
   "cell_type": "code",
   "execution_count": 91,
   "id": "d534f22b",
   "metadata": {},
   "outputs": [
    {
     "data": {
      "text/plain": [
       "2.0"
      ]
     },
     "execution_count": 91,
     "metadata": {},
     "output_type": "execute_result"
    }
   ],
   "source": [
    "# б) больше 190 см\n",
    "Z = normalization_sigma(190, mu, sigma)\n",
    "Z"
   ]
  },
  {
   "cell_type": "code",
   "execution_count": 92,
   "id": "7dce4e50",
   "metadata": {},
   "outputs": [
    {
     "data": {
      "text/plain": [
       "2.28"
      ]
     },
     "execution_count": 92,
     "metadata": {},
     "output_type": "execute_result"
    }
   ],
   "source": [
    "# по таблице: 2.0 ---> 0,9772\n",
    "P_percent = round((1 - 0.9772) * 100, 2)\n",
    "P_percent"
   ]
  },
  {
   "cell_type": "code",
   "execution_count": 93,
   "id": "5ff2454b",
   "metadata": {},
   "outputs": [
    {
     "data": {
      "text/plain": [
       "(-1.0, 2.0)"
      ]
     },
     "execution_count": 93,
     "metadata": {},
     "output_type": "execute_result"
    }
   ],
   "source": [
    "# в) от 166 см до 190 см\n",
    "Z1 = normalization_sigma(166, mu, sigma)\n",
    "Z2 = 2.0\n",
    "Z1, Z2"
   ]
  },
  {
   "cell_type": "code",
   "execution_count": 94,
   "id": "5a6703c4",
   "metadata": {},
   "outputs": [
    {
     "data": {
      "text/plain": [
       "81.85"
      ]
     },
     "execution_count": 94,
     "metadata": {},
     "output_type": "execute_result"
    }
   ],
   "source": [
    "# по таблицам: -1.0 ---> 0,1587; 2.0 ---> 0,9772\n",
    "# (на листочке визуализирую график) искомая площадь значений лежит от менее 0,9772 минус значения левее 0,1587\n",
    "P_percent = round((0.9772 - 0.1587) * 100, 2)\n",
    "P_percent"
   ]
  },
  {
   "cell_type": "code",
   "execution_count": 95,
   "id": "284f41a6",
   "metadata": {},
   "outputs": [],
   "source": [
    "# г) от 166 см до 182 см\n",
    "Z1 = -1.0\n",
    "Z2 = 1.0"
   ]
  },
  {
   "cell_type": "code",
   "execution_count": 96,
   "id": "063a1f30",
   "metadata": {},
   "outputs": [
    {
     "data": {
      "text/plain": [
       "68.26"
      ]
     },
     "execution_count": 96,
     "metadata": {},
     "output_type": "execute_result"
    }
   ],
   "source": [
    "# по таблицам: -1.0 ---> 0,1587; 1.0 ---> 0,8413     далее логика аналогично подпункту в):\n",
    "P_percent = round((0.8413 - 0.1587) * 100, 2)\n",
    "P_percent"
   ]
  },
  {
   "cell_type": "code",
   "execution_count": 97,
   "id": "054bf2d7",
   "metadata": {},
   "outputs": [
    {
     "data": {
      "text/plain": [
       "(-2.0, 2.0)"
      ]
     },
     "execution_count": 97,
     "metadata": {},
     "output_type": "execute_result"
    }
   ],
   "source": [
    "# д) от 158 см до 190 см\n",
    "Z1 = normalization_sigma(158, mu, sigma)\n",
    "Z2 = 2.0\n",
    "Z1, Z2"
   ]
  },
  {
   "cell_type": "code",
   "execution_count": 98,
   "id": "355d6efb",
   "metadata": {},
   "outputs": [
    {
     "data": {
      "text/plain": [
       "95.44"
      ]
     },
     "execution_count": 98,
     "metadata": {},
     "output_type": "execute_result"
    }
   ],
   "source": [
    "# по таблице: -2.0 ---> 0.0228, 2.0 ---> 0,9772     далее логика аналогично подпунктам в) и г):\n",
    "P_percent = round((0.9772 - 0.0228) * 100, 2)\n",
    "P_percent"
   ]
  },
  {
   "cell_type": "code",
   "execution_count": 99,
   "id": "ff62610a",
   "metadata": {},
   "outputs": [
    {
     "data": {
      "text/plain": [
       "(-3.0, 2.0)"
      ]
     },
     "execution_count": 99,
     "metadata": {},
     "output_type": "execute_result"
    }
   ],
   "source": [
    "# е) не выше 150 см или не ниже 190 см\n",
    "Z1 = normalization_sigma(150, mu, sigma)\n",
    "Z2 = 2.0\n",
    "Z1, Z2"
   ]
  },
  {
   "cell_type": "code",
   "execution_count": 100,
   "id": "2e95638d",
   "metadata": {},
   "outputs": [
    {
     "data": {
      "text/plain": [
       "2.42"
      ]
     },
     "execution_count": 100,
     "metadata": {},
     "output_type": "execute_result"
    }
   ],
   "source": [
    "# по таблице: -3.0 ---> 0.0014, 2.0 ---> 0,9772     далее считаем сумму площадей левее -3,0 и правее 2,0:\n",
    "P_percent = round((0.0014 + (1 - 0.9772)) * 100, 2)\n",
    "P_percent"
   ]
  },
  {
   "cell_type": "code",
   "execution_count": 101,
   "id": "a754850c",
   "metadata": {},
   "outputs": [
    {
     "data": {
      "text/plain": [
       "(-3.0, 3.0)"
      ]
     },
     "execution_count": 101,
     "metadata": {},
     "output_type": "execute_result"
    }
   ],
   "source": [
    "# ё) не выше 150 см или не ниже 198 см\n",
    "Z1 = -3.0\n",
    "Z2 = normalization_sigma(198, mu, sigma)\n",
    "Z1, Z2"
   ]
  },
  {
   "cell_type": "code",
   "execution_count": 102,
   "id": "f34ae094",
   "metadata": {},
   "outputs": [
    {
     "data": {
      "text/plain": [
       "0.28"
      ]
     },
     "execution_count": 102,
     "metadata": {},
     "output_type": "execute_result"
    }
   ],
   "source": [
    "# по таблице: -3.0 ---> 0.0014, 3.0 ---> 0,9986     далее логика аналогично подпунку е)\n",
    "P_percent = round((0.0014 + (1 - 0.9986)) * 100, 2)\n",
    "P_percent"
   ]
  },
  {
   "cell_type": "code",
   "execution_count": 103,
   "id": "6f91447b",
   "metadata": {},
   "outputs": [],
   "source": [
    "# ж) ниже 166 см\n",
    "Z = -1.0"
   ]
  },
  {
   "cell_type": "code",
   "execution_count": 104,
   "id": "1428e47e",
   "metadata": {},
   "outputs": [
    {
     "data": {
      "text/plain": [
       "15.87"
      ]
     },
     "execution_count": 104,
     "metadata": {},
     "output_type": "execute_result"
    }
   ],
   "source": [
    "# по таблице: -1.0 ---> 0,1587          это и есть искомая площадь\n",
    "P_percent = round(0.1587 * 100, 2)\n",
    "P_percent"
   ]
  },
  {
   "cell_type": "markdown",
   "id": "bddfc3be",
   "metadata": {},
   "source": [
    "ОТВЕТЫ ЗАДАЧИ №4: а) 15,87%; б) 2,28%; в) 81,85%; г) 68,26%; д) 95,44%; е) 2,42%; ё) 0,28%; ж) 15,87%."
   ]
  },
  {
   "cell_type": "markdown",
   "id": "41b6a413",
   "metadata": {},
   "source": [
    "ЗАДАЧА №5. На сколько сигм (средних квадратичных отклонений) отклоняется рост человека, равный 190 см, от математического ожидания роста в популяции, в которой M(X) = 178 см и D(X) = 25 кв.см?"
   ]
  },
  {
   "cell_type": "code",
   "execution_count": 105,
   "id": "075b8295",
   "metadata": {},
   "outputs": [
    {
     "data": {
      "text/plain": [
       "2.4"
      ]
     },
     "execution_count": 105,
     "metadata": {},
     "output_type": "execute_result"
    }
   ],
   "source": [
    "# по условию задачи знаем:\n",
    "x = 190\n",
    "mu = 178\n",
    "D_x = 25\n",
    "P = normalization_D_x(x, mu, D_x)\n",
    "P"
   ]
  },
  {
   "cell_type": "markdown",
   "id": "81fd0ccc",
   "metadata": {},
   "source": [
    "ОТВЕТ ЗАДАЧИ №5: Отклоняется на 2.4 сигмы."
   ]
  }
 ],
 "metadata": {
  "kernelspec": {
   "display_name": "Python 3 (ipykernel)",
   "language": "python",
   "name": "python3"
  },
  "language_info": {
   "codemirror_mode": {
    "name": "ipython",
    "version": 3
   },
   "file_extension": ".py",
   "mimetype": "text/x-python",
   "name": "python",
   "nbconvert_exporter": "python",
   "pygments_lexer": "ipython3",
   "version": "3.9.13"
  }
 },
 "nbformat": 4,
 "nbformat_minor": 5
}
