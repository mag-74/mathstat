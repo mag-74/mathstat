{
 "cells": [
  {
   "cell_type": "code",
   "execution_count": 32,
   "id": "7fd3ef98",
   "metadata": {},
   "outputs": [],
   "source": [
    "import numpy as np\n",
    "import scipy.stats as stats\n",
    "import pandas as pd"
   ]
  },
  {
   "cell_type": "markdown",
   "id": "0f2f356d",
   "metadata": {},
   "source": [
    "ЗАДАЧА №1. Даны значения величины заработной платы заемщиков банка (zp) и значения их поведенческого кредитного скоринга (ks):\n",
    "zp = [35, 45, 190, 200, 40, 70, 54, 150, 120, 110],\n",
    "ks = [401, 574, 874, 919, 459, 739, 653, 902, 746, 832].\n",
    "Найдите ковариацию этих двух величин с помощью элементарных действий, а затем с помощью функции cov из numpy (полученные значения должны быть равны). Найдите коэффициент корреляции Пирсона с помощью ковариации и среднеквадратичных отклонений двух признаков, а затем с использованием функций из библиотек numpy и pandas."
   ]
  },
  {
   "cell_type": "code",
   "execution_count": 33,
   "id": "a2671bb3",
   "metadata": {},
   "outputs": [],
   "source": [
    "zp = np.array([35, 45, 190, 200, 40, 70, 54, 150, 120, 110])\n",
    "ks = np.array([401, 574, 874, 919, 459, 739, 653, 902, 746, 832])"
   ]
  },
  {
   "cell_type": "code",
   "execution_count": 34,
   "id": "0595d720",
   "metadata": {},
   "outputs": [
    {
     "data": {
      "text/plain": [
       "9157.839999999997"
      ]
     },
     "execution_count": 34,
     "metadata": {},
     "output_type": "execute_result"
    }
   ],
   "source": [
    "# Для расчета ковариации \"элементарными действиями\" будем использовать формулу cov_xy=μ(XY) − μ(X) ∗ μ(Y):\n",
    "cov = np.mean(zp * ks) - np.mean(zp) * np.mean(ks)\n",
    "cov"
   ]
  },
  {
   "cell_type": "code",
   "execution_count": 35,
   "id": "23c0ec97",
   "metadata": {},
   "outputs": [
    {
     "data": {
      "text/plain": [
       "array([[ 3882.93333333, 10175.37777778],\n",
       "       [10175.37777778, 33854.32222222]])"
      ]
     },
     "execution_count": 35,
     "metadata": {},
     "output_type": "execute_result"
    }
   ],
   "source": [
    "# Теперь посчитаем ковариацию через функцию:\n",
    "cov_check = np.cov(zp,ks)\n",
    "cov_check"
   ]
  },
  {
   "cell_type": "code",
   "execution_count": 36,
   "id": "1b7b548f",
   "metadata": {},
   "outputs": [
    {
     "data": {
      "text/plain": [
       "array([[ 3494.64,  9157.84],\n",
       "       [ 9157.84, 30468.89]])"
      ]
     },
     "execution_count": 36,
     "metadata": {},
     "output_type": "execute_result"
    }
   ],
   "source": [
    "# Ой. Но, чтобы выполнить условие задачи и посчитать их одинаковыми, тогда используем смещенность:\n",
    "cov_check = np.cov(zp,ks,ddof=0)\n",
    "cov_check"
   ]
  },
  {
   "cell_type": "code",
   "execution_count": 37,
   "id": "b852e46e",
   "metadata": {},
   "outputs": [
    {
     "data": {
      "text/plain": [
       "(59.115480206118605, 174.55340157098058)"
      ]
     },
     "execution_count": 37,
     "metadata": {},
     "output_type": "execute_result"
    }
   ],
   "source": [
    "# Будем использовать смещенное значение ковариации. Это значит, что среднеквадратичные отклонения тоже будем считать смещенными.\n",
    "σ_zp = np.std(zp,ddof=0)\n",
    "σ_ks = np.std(ks,ddof=0)\n",
    "σ_zp, σ_ks"
   ]
  },
  {
   "cell_type": "code",
   "execution_count": 38,
   "id": "7a86049f",
   "metadata": {},
   "outputs": [
    {
     "data": {
      "text/plain": [
       "0.8874900920739158"
      ]
     },
     "execution_count": 38,
     "metadata": {},
     "output_type": "execute_result"
    }
   ],
   "source": [
    "# Посчитаем коэффициент корреляции Пирсона по формуле:\n",
    "r_zp_ks = cov / (σ_zp * σ_ks)\n",
    "r_zp_ks"
   ]
  },
  {
   "cell_type": "markdown",
   "id": "35948d86",
   "metadata": {},
   "source": [
    "В тексте задачи не сформулирован такой вопрос, но стоит заметить, что между двумя выборками имеется сильная прямая линейная зависимость."
   ]
  },
  {
   "cell_type": "code",
   "execution_count": 39,
   "id": "53b68836",
   "metadata": {},
   "outputs": [
    {
     "data": {
      "text/plain": [
       "array([[1.        , 0.88749009],\n",
       "       [0.88749009, 1.        ]])"
      ]
     },
     "execution_count": 39,
     "metadata": {},
     "output_type": "execute_result"
    }
   ],
   "source": [
    "# Теперь посчитаем с использованием функций из библиотек numpy ...:\n",
    "r_zp_ks_check = np.corrcoef(zp,ks)\n",
    "r_zp_ks_check"
   ]
  },
  {
   "cell_type": "code",
   "execution_count": 40,
   "id": "a51b2d63",
   "metadata": {},
   "outputs": [
    {
     "data": {
      "text/html": [
       "<div>\n",
       "<style scoped>\n",
       "    .dataframe tbody tr th:only-of-type {\n",
       "        vertical-align: middle;\n",
       "    }\n",
       "\n",
       "    .dataframe tbody tr th {\n",
       "        vertical-align: top;\n",
       "    }\n",
       "\n",
       "    .dataframe thead th {\n",
       "        text-align: right;\n",
       "    }\n",
       "</style>\n",
       "<table border=\"1\" class=\"dataframe\">\n",
       "  <thead>\n",
       "    <tr style=\"text-align: right;\">\n",
       "      <th></th>\n",
       "      <th>zp</th>\n",
       "      <th>ks</th>\n",
       "    </tr>\n",
       "  </thead>\n",
       "  <tbody>\n",
       "    <tr>\n",
       "      <th>zp</th>\n",
       "      <td>1.00000</td>\n",
       "      <td>0.88749</td>\n",
       "    </tr>\n",
       "    <tr>\n",
       "      <th>ks</th>\n",
       "      <td>0.88749</td>\n",
       "      <td>1.00000</td>\n",
       "    </tr>\n",
       "  </tbody>\n",
       "</table>\n",
       "</div>"
      ],
      "text/plain": [
       "         zp       ks\n",
       "zp  1.00000  0.88749\n",
       "ks  0.88749  1.00000"
      ]
     },
     "execution_count": 40,
     "metadata": {},
     "output_type": "execute_result"
    }
   ],
   "source": [
    "# ... и pandas:\n",
    "df = pd.DataFrame({'zp': [35, 45, 190, 200, 40, 70, 54, 150, 120, 110],\n",
    "                   'ks': [401, 574, 874, 919, 459, 739, 653, 902, 746, 832]})\n",
    "df.corr()"
   ]
  },
  {
   "cell_type": "markdown",
   "id": "70a27c05",
   "metadata": {},
   "source": [
    "ОТВЕТ ЗАДАЧИ №1: Значение ковариации - 9157, коэффициент корреляции Пирсона - 0,887."
   ]
  },
  {
   "cell_type": "markdown",
   "id": "952bc487",
   "metadata": {},
   "source": [
    "ЗАДАЧА №2. Измерены значения IQ выборки студентов,\n",
    "обучающихся в местных технических вузах:\n",
    "131, 125, 115, 122, 131, 115, 107, 99, 125, 111.\n",
    "Известно, что в генеральной совокупности IQ распределен нормально.\n",
    "Найдите доверительный интервал для математического ожидания с надежностью 0.95."
   ]
  },
  {
   "cell_type": "code",
   "execution_count": 13,
   "id": "725f6c98",
   "metadata": {},
   "outputs": [
    {
     "data": {
      "text/plain": [
       "(10, 10.54566788359614, 118.1)"
      ]
     },
     "execution_count": 13,
     "metadata": {},
     "output_type": "execute_result"
    }
   ],
   "source": [
    "x = np.array([131, 125, 115, 122, 131, 115, 107, 99, 125, 111])\n",
    "n = len(x)\n",
    "# Поскольку объем выборки меньше 100, то считаем с условием несмещенности:\n",
    "σ = np.std(x, ddof=1)\n",
    "μ = np.mean(x)\n",
    "n, σ, μ "
   ]
  },
  {
   "cell_type": "code",
   "execution_count": 14,
   "id": "c01becf1",
   "metadata": {},
   "outputs": [
    {
     "data": {
      "text/plain": [
       "2.2621571627409915"
      ]
     },
     "execution_count": 14,
     "metadata": {},
     "output_type": "execute_result"
    }
   ],
   "source": [
    "# Сигма генеральной совокупности не известна, поэтому применяем критерий Стьюдента:\n",
    "t = stats.t.ppf(0.975, (n - 1))\n",
    "t"
   ]
  },
  {
   "cell_type": "code",
   "execution_count": 15,
   "id": "2de3ccce",
   "metadata": {},
   "outputs": [
    {
     "data": {
      "text/plain": [
       "(110.55608365158724, 125.64391634841274)"
      ]
     },
     "execution_count": 15,
     "metadata": {},
     "output_type": "execute_result"
    }
   ],
   "source": [
    "# Определяем интервалы:\n",
    "left = μ - t * (σ/np.sqrt(n))\n",
    "right = μ + t * (σ/np.sqrt(n))\n",
    "left, right"
   ]
  },
  {
   "cell_type": "markdown",
   "id": "a5cc3135",
   "metadata": {},
   "source": [
    "ОТВЕТ ЗАДАЧИ №2: Доверительный интервал для математического ожидания IQ: от 111 до 126."
   ]
  },
  {
   "cell_type": "markdown",
   "id": "5fbb5e85",
   "metadata": {},
   "source": [
    "ЗАДАЧА №3. Известно, что рост футболистов в сборной распределен нормально с дисперсией генеральной совокупности, равной 25 кв.см. Объем выборки равен 27, среднее выборочное составляет 174.2. Найдите доверительный интервал для математического ожидания с надежностью 0.95."
   ]
  },
  {
   "cell_type": "code",
   "execution_count": 16,
   "id": "37bbd14e",
   "metadata": {},
   "outputs": [
    {
     "data": {
      "text/plain": [
       "5.0"
      ]
     },
     "execution_count": 16,
     "metadata": {},
     "output_type": "execute_result"
    }
   ],
   "source": [
    "# Из условий задачи знаем:\n",
    "D_x = 25\n",
    "σ = np.sqrt(D_x)\n",
    "μ = 174.2\n",
    "n = 27\n",
    "σ"
   ]
  },
  {
   "cell_type": "code",
   "execution_count": 17,
   "id": "eeb351a5",
   "metadata": {},
   "outputs": [
    {
     "data": {
      "text/plain": [
       "1.959963984540054"
      ]
     },
     "execution_count": 17,
     "metadata": {},
     "output_type": "execute_result"
    }
   ],
   "source": [
    "# Сигма генеральной совокупности известна, поэтому используем z-критерий:\n",
    "Z = stats.norm.ppf(0.975)\n",
    "Z"
   ]
  },
  {
   "cell_type": "code",
   "execution_count": 18,
   "id": "8e37e844",
   "metadata": {},
   "outputs": [
    {
     "data": {
      "text/plain": [
       "(172.3140237765397, 176.08597622346028)"
      ]
     },
     "execution_count": 18,
     "metadata": {},
     "output_type": "execute_result"
    }
   ],
   "source": [
    "# Определяем интервалы:\n",
    "left = μ - Z * (σ/np.sqrt(n))\n",
    "right = μ + Z * (σ/np.sqrt(n))\n",
    "left, right"
   ]
  },
  {
   "cell_type": "markdown",
   "id": "3d76f208",
   "metadata": {},
   "source": [
    "ОТВЕТ ЗАДАЧИ №3: Доверительный интервал для математического ожидания IQ: от 172,3 до 176,1."
   ]
  }
 ],
 "metadata": {
  "kernelspec": {
   "display_name": "Python 3 (ipykernel)",
   "language": "python",
   "name": "python3"
  },
  "language_info": {
   "codemirror_mode": {
    "name": "ipython",
    "version": 3
   },
   "file_extension": ".py",
   "mimetype": "text/x-python",
   "name": "python",
   "nbconvert_exporter": "python",
   "pygments_lexer": "ipython3",
   "version": "3.9.13"
  }
 },
 "nbformat": 4,
 "nbformat_minor": 5
}
