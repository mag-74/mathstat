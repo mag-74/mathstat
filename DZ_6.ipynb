{
 "cells": [
  {
   "cell_type": "code",
   "execution_count": 5,
   "id": "faa5419d",
   "metadata": {},
   "outputs": [],
   "source": [
    "import numpy as np\n",
    "import scipy.stats as stats"
   ]
  },
  {
   "cell_type": "markdown",
   "id": "a82d694d",
   "metadata": {},
   "source": [
    "ЗАДАЧА №1. Известно, что генеральная совокупность распределена нормально со средним квадратическим отклонением, равным 16. Найти доверительный интервал для оценки математического ожидания А с надежностью 0.95, если выборочная средняя M = 80, а объем выборки n = 256."
   ]
  },
  {
   "cell_type": "code",
   "execution_count": 6,
   "id": "aeefda35",
   "metadata": {},
   "outputs": [],
   "source": [
    "# Из условия задачи знаем:\n",
    "σ = 16\n",
    "μ = 80\n",
    "n = 256"
   ]
  },
  {
   "cell_type": "code",
   "execution_count": 7,
   "id": "6c1d1207",
   "metadata": {},
   "outputs": [
    {
     "data": {
      "text/plain": [
       "1.959963984540054"
      ]
     },
     "execution_count": 7,
     "metadata": {},
     "output_type": "execute_result"
    }
   ],
   "source": [
    "# Сигма генеральной совокупности известна, поэтому используем z-критерий:\n",
    "Z = stats.norm.ppf(0.975)\n",
    "Z"
   ]
  },
  {
   "cell_type": "code",
   "execution_count": 8,
   "id": "484aae43",
   "metadata": {},
   "outputs": [
    {
     "data": {
      "text/plain": [
       "(78.04003601545995, 81.95996398454005)"
      ]
     },
     "execution_count": 8,
     "metadata": {},
     "output_type": "execute_result"
    }
   ],
   "source": [
    "# Определяем интервалы:\n",
    "z_left = μ - Z * (σ/np.sqrt(n))\n",
    "z_right = μ + Z * (σ/np.sqrt(n))\n",
    "z_left, z_right"
   ]
  },
  {
   "cell_type": "markdown",
   "id": "238454e6",
   "metadata": {},
   "source": [
    "ОТВЕТ ЗАДАЧИ №1: Доверительный интервал для оценки будет от 78,04 до 81,96."
   ]
  },
  {
   "cell_type": "markdown",
   "id": "258a4fb0",
   "metadata": {},
   "source": [
    "ЗАДАЧА №2. В результате 10 независимых измерений некоторой величины X, выполненных с одинаковой точностью, получены опытные данные: 6.9, 6.1, 6.2, 6.8, 7.5, 6.3, 6.4, 6.9, 6.7, 6.1. Предполагая, что результаты измерений подчинены нормальному закону распределения вероятностей, оценить истинное значение величины X при помощи доверительного интервала, покрывающего это значение с доверительной вероятностью 0,95.\n"
   ]
  },
  {
   "cell_type": "code",
   "execution_count": 9,
   "id": "8e9e21d3",
   "metadata": {},
   "outputs": [],
   "source": [
    "# Из условия задачи знаем:\n",
    "n = 10\n",
    "x = np.array([6.9, 6.1, 6.2, 6.8, 7.5, 6.3, 6.4, 6.9, 6.7, 6.1])"
   ]
  },
  {
   "cell_type": "code",
   "execution_count": 10,
   "id": "0d75de97",
   "metadata": {},
   "outputs": [
    {
     "data": {
      "text/plain": [
       "(6.590000000000001, 0.4508017549014448)"
      ]
     },
     "execution_count": 10,
     "metadata": {},
     "output_type": "execute_result"
    }
   ],
   "source": [
    "# Посчитаем среднее значение и сигму выборки:\n",
    "μ = np.mean(x)\n",
    "σ = np.std(x,ddof=1)\n",
    "μ, σ"
   ]
  },
  {
   "cell_type": "code",
   "execution_count": 11,
   "id": "63434c16",
   "metadata": {},
   "outputs": [
    {
     "data": {
      "text/plain": [
       "2.2621571627409915"
      ]
     },
     "execution_count": 11,
     "metadata": {},
     "output_type": "execute_result"
    }
   ],
   "source": [
    "# Сигма генеральной совокупности неизвестна, будем использовать t-критерий Стьюдента для расчета:\n",
    "t = stats.t.ppf(0.975, (n - 1))\n",
    "t"
   ]
  },
  {
   "cell_type": "code",
   "execution_count": 12,
   "id": "bcd9d31c",
   "metadata": {},
   "outputs": [
    {
     "data": {
      "text/plain": [
       "(6.267515851415713, 6.912484148584288)"
      ]
     },
     "execution_count": 12,
     "metadata": {},
     "output_type": "execute_result"
    }
   ],
   "source": [
    "# Определяем интервалы:\n",
    "z_left = μ - t * (σ/np.sqrt(n))\n",
    "z_right = μ + t * (σ/np.sqrt(n))\n",
    "z_left, z_right"
   ]
  },
  {
   "cell_type": "markdown",
   "id": "71dce88e",
   "metadata": {},
   "source": [
    "ОТВЕТ ЗАДАЧИ №2: Доверительный интервал будет от 6,28 до 6,90."
   ]
  },
  {
   "cell_type": "markdown",
   "id": "bf8f92ff",
   "metadata": {},
   "source": [
    "ЗАДАЧА №3. Рост дочерей (детей): 175, 167, 154, 174, 178, 148, 160, 167, 169, 170.\n",
    "Рост матерей (родителей):  178, 165, 165, 173, 168, 155, 160, 164, 178, 175\n",
    "Используя эти данные построить 95% доверительный интервал для разности среднего роста родителей и детей."
   ]
  },
  {
   "cell_type": "code",
   "execution_count": 13,
   "id": "2cb7286b",
   "metadata": {},
   "outputs": [],
   "source": [
    "x = np.array([175, 167, 154, 174, 178, 148, 160, 167, 169, 170])\n",
    "y = np.array([178, 165, 165, 173, 168, 155, 160, 164, 178, 175])"
   ]
  },
  {
   "cell_type": "code",
   "execution_count": 14,
   "id": "a2ef7c0e",
   "metadata": {},
   "outputs": [
    {
     "data": {
      "text/plain": [
       "(166.2, 168.1, -1.9)"
      ]
     },
     "execution_count": 14,
     "metadata": {},
     "output_type": "execute_result"
    }
   ],
   "source": [
    "# Посчитаем средние значение по выборкам и значение разности:\n",
    "μ_x = np.mean(x)\n",
    "μ_y = np.mean(y)\n",
    "Δ = round((μ_x - μ_y), 2)\n",
    "μ_x, μ_y, Δ"
   ]
  },
  {
   "cell_type": "code",
   "execution_count": 15,
   "id": "12361188",
   "metadata": {},
   "outputs": [
    {
     "data": {
      "text/plain": [
       "(9.05317623820502, 7.354590403278759)"
      ]
     },
     "execution_count": 15,
     "metadata": {},
     "output_type": "execute_result"
    }
   ],
   "source": [
    "# Посчитаем значения сигм по обеим выборкам:\n",
    "σ_x = np.std(x)\n",
    "σ_y = np.std(y)\n",
    "σ_x, σ_y"
   ]
  },
  {
   "cell_type": "code",
   "execution_count": 16,
   "id": "6d7f70ba",
   "metadata": {},
   "outputs": [
    {
     "data": {
      "text/plain": [
       "68.025"
      ]
     },
     "execution_count": 16,
     "metadata": {},
     "output_type": "execute_result"
    }
   ],
   "source": [
    "# Общую дисперсию рассчитываем по формуле:\n",
    "D = (σ_x**2 + σ_y**2)/2\n",
    "D"
   ]
  },
  {
   "cell_type": "code",
   "execution_count": 17,
   "id": "6c2d088e",
   "metadata": {},
   "outputs": [
    {
     "data": {
      "text/plain": [
       "3.6884956283015984"
      ]
     },
     "execution_count": 17,
     "metadata": {},
     "output_type": "execute_result"
    }
   ],
   "source": [
    "# Теперь можно посчитать стандартную ошибку среднего:\n",
    "S = np.sqrt(D * (1/len(x) + 1/len(y)))\n",
    "S"
   ]
  },
  {
   "cell_type": "code",
   "execution_count": 18,
   "id": "f626b172",
   "metadata": {},
   "outputs": [
    {
     "data": {
      "text/plain": [
       "2.10092204024096"
      ]
     },
     "execution_count": 18,
     "metadata": {},
     "output_type": "execute_result"
    }
   ],
   "source": [
    "# Сигма генеральной совокупности неизвестна, будем использовать t-критерий Стьюдента для расчета:\n",
    "t = stats.t.ppf(0.975, (len(x) + len(y) - 2))\n",
    "t"
   ]
  },
  {
   "cell_type": "code",
   "execution_count": 19,
   "id": "9861ed7c",
   "metadata": {},
   "outputs": [
    {
     "data": {
      "text/plain": [
       "(-9.649241760831256, 5.849241760831257)"
      ]
     },
     "execution_count": 19,
     "metadata": {},
     "output_type": "execute_result"
    }
   ],
   "source": [
    "# Посчитаем интервалы:\n",
    "z_left = Δ - t * S\n",
    "z_right = Δ + t * S\n",
    "z_left, z_right"
   ]
  },
  {
   "cell_type": "markdown",
   "id": "c98779ce",
   "metadata": {},
   "source": [
    "ОТВЕТ ЗАДАЧИ №3: 95%-й интервал для разности роста: от -9.65 до 5.85."
   ]
  }
 ],
 "metadata": {
  "kernelspec": {
   "display_name": "Python 3 (ipykernel)",
   "language": "python",
   "name": "python3"
  },
  "language_info": {
   "codemirror_mode": {
    "name": "ipython",
    "version": 3
   },
   "file_extension": ".py",
   "mimetype": "text/x-python",
   "name": "python",
   "nbconvert_exporter": "python",
   "pygments_lexer": "ipython3",
   "version": "3.9.13"
  }
 },
 "nbformat": 4,
 "nbformat_minor": 5
}
