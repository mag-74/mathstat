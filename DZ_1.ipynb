{
 "cells": [
  {
   "cell_type": "code",
   "execution_count": 36,
   "id": "5ec4dd3d",
   "metadata": {},
   "outputs": [],
   "source": [
    "import math\n",
    "# СОЧЕТАНИЕ\n",
    "def combination(n, k):\n",
    "    return (math.factorial(n)/(math.factorial(k)*math.factorial(n-k)))\n",
    "\n",
    "# РАЗМЕЩЕНИЕ (ПЕРЕСТАНОВКА без повторения)\n",
    "def accommodation(n, k):\n",
    "    return (math.factorial(n)/(math.factorial(n-k)))\n",
    "\n",
    "# ПЕРЕСТАНОВКА (с повторением)\n",
    "def permutation_with_repetition(n, k):\n",
    "    return 111"
   ]
  },
  {
   "cell_type": "markdown",
   "id": "e588e12e",
   "metadata": {},
   "source": [
    "УСЛОВИЕ ЗАДАЧИ №1: Из колоды в 52 карты извлекаются случайным образом 4 карты.\n",
    "a) Найти вероятность того, что все карты – крести.\n",
    "б) Найти вероятность, что среди 4-х карт окажется хотя бы один туз."
   ]
  },
  {
   "cell_type": "code",
   "execution_count": 37,
   "id": "2824bb57",
   "metadata": {},
   "outputs": [
    {
     "data": {
      "text/plain": [
       "270725.0"
      ]
     },
     "execution_count": 37,
     "metadata": {},
     "output_type": "execute_result"
    }
   ],
   "source": [
    "# Первое действие - считаем сколько комбинаций 4х карт из колоды есть.\n",
    "step1 = combination(52, 4)\n",
    "step1"
   ]
  },
  {
   "cell_type": "code",
   "execution_count": 38,
   "id": "f82eb909",
   "metadata": {},
   "outputs": [
    {
     "data": {
      "text/plain": [
       "715.0"
      ]
     },
     "execution_count": 38,
     "metadata": {},
     "output_type": "execute_result"
    }
   ],
   "source": [
    "# Второе действие - считаем количество комбинаций 4х карт крести из всего 13-ти данной масти.\n",
    "step2 = combination(13, 4)\n",
    "step2"
   ]
  },
  {
   "cell_type": "code",
   "execution_count": 39,
   "id": "b728eebc",
   "metadata": {},
   "outputs": [
    {
     "data": {
      "text/plain": [
       "0.0026410564225690276"
      ]
     },
     "execution_count": 39,
     "metadata": {},
     "output_type": "execute_result"
    }
   ],
   "source": [
    "# Третье действие - считаем вероятность выпадания всех 4х карт с мастью крести.\n",
    "otvetA = step2 / step1\n",
    "otvetA"
   ]
  },
  {
   "cell_type": "code",
   "execution_count": 40,
   "id": "785e8d3f",
   "metadata": {},
   "outputs": [
    {
     "data": {
      "text/plain": [
       "69184.0"
      ]
     },
     "execution_count": 40,
     "metadata": {},
     "output_type": "execute_result"
    }
   ],
   "source": [
    "# Четвертое действие для подзадачи б) - считаем количество выпаданий в одном выборе одного туза из 4х карт тузов\n",
    "# и еще 3х других карт. \n",
    "step4 = combination(48, 3)*combination(4, 1)\n",
    "step4"
   ]
  },
  {
   "cell_type": "code",
   "execution_count": 41,
   "id": "e8b6528a",
   "metadata": {},
   "outputs": [
    {
     "data": {
      "text/plain": [
       "0.25555083571890297"
      ]
     },
     "execution_count": 41,
     "metadata": {},
     "output_type": "execute_result"
    }
   ],
   "source": [
    "# Пятое действие - считаем вероятность выпадания 4-х карт с одним тузом среди них.\n",
    "otvetB = step4 / step1\n",
    "otvetB"
   ]
  },
  {
   "cell_type": "markdown",
   "id": "b9a77c18",
   "metadata": {},
   "source": [
    "ОТВЕТЫ ЗАДАЧИ №1:\n",
    "а)0,3%\n",
    "б)25,5%"
   ]
  },
  {
   "cell_type": "markdown",
   "id": "ad1e226a",
   "metadata": {},
   "source": [
    "УСЛОВИЕ ЗАДАЧИ №2: На входной двери подъезда установлен кодовый замок, содержащий десять кнопок с цифрами от 0 до 9. Код содержит три цифры, которые нужно нажать одновременно. Какова вероятность того, что человек, не знающий код, откроет дверь с первой попытки?"
   ]
  },
  {
   "cell_type": "code",
   "execution_count": 42,
   "id": "79564977",
   "metadata": {},
   "outputs": [
    {
     "data": {
      "text/plain": [
       "120.0"
      ]
     },
     "execution_count": 42,
     "metadata": {},
     "output_type": "execute_result"
    }
   ],
   "source": [
    "# Первое действие - посчитаем количество комбинаций кодов.\n",
    "step1 = combination(10, 3)\n",
    "step1"
   ]
  },
  {
   "cell_type": "code",
   "execution_count": 43,
   "id": "aed3eaa7",
   "metadata": {},
   "outputs": [
    {
     "data": {
      "text/plain": [
       "0.008333333333333333"
      ]
     },
     "execution_count": 43,
     "metadata": {},
     "output_type": "execute_result"
    }
   ],
   "source": [
    "# Второе действие - вероятность открытия нужной комбинации кода с одной попытки.\n",
    "otvet = 1 / step1\n",
    "otvet"
   ]
  },
  {
   "cell_type": "markdown",
   "id": "fad29a40",
   "metadata": {},
   "source": [
    "ОТВЕТ ЗАДАЧИ №2: 0,8%"
   ]
  },
  {
   "cell_type": "markdown",
   "id": "d95cfeb5",
   "metadata": {},
   "source": [
    "УСЛОВИЕ ЗАДАЧИ №3: В ящике имеется 15 деталей, из которых 9 окрашены. Рабочий случайным образом извлекает 3 детали. Какова вероятность того, что все извлеченные детали окрашены?"
   ]
  },
  {
   "cell_type": "code",
   "execution_count": 46,
   "id": "5dc85ad1",
   "metadata": {},
   "outputs": [
    {
     "data": {
      "text/plain": [
       "0.18461538461538463"
      ]
     },
     "execution_count": 46,
     "metadata": {},
     "output_type": "execute_result"
    }
   ],
   "source": [
    "# Считаем как отношение числа комбинаций попадания всех крашенных деталей к числу комбинаций выбора 3х деталей из 15ти.\n",
    "otvet = combination(9, 3) / combination(15, 3)\n",
    "otvet"
   ]
  },
  {
   "cell_type": "markdown",
   "id": "2ea4eabb",
   "metadata": {},
   "source": [
    "ОТВЕТ ЗАДАЧИ №3: 18,5%"
   ]
  },
  {
   "cell_type": "markdown",
   "id": "fdc8c4a0",
   "metadata": {},
   "source": [
    "УСЛОВИЕ ЗАДАЧИ №4: В лотерее 100 билетов. Из них 2 выигрышных. Какова вероятность того, что 2 приобретенных билета окажутся выигрышными?"
   ]
  },
  {
   "cell_type": "code",
   "execution_count": 47,
   "id": "bcc57357",
   "metadata": {},
   "outputs": [
    {
     "data": {
      "text/plain": [
       "0.00020202020202020205"
      ]
     },
     "execution_count": 47,
     "metadata": {},
     "output_type": "execute_result"
    }
   ],
   "source": [
    "# Считаем как произведение вероятностей событий А (первый билет выигрышный) и В (второй билет выигрышный).\n",
    "otvet = (2/100)*(1/99)\n",
    "otvet"
   ]
  },
  {
   "cell_type": "markdown",
   "id": "7e00779c",
   "metadata": {},
   "source": [
    "ОТВЕТ ЗАДАЧИ №4: 0,02%"
   ]
  }
 ],
 "metadata": {
  "kernelspec": {
   "display_name": "Python 3 (ipykernel)",
   "language": "python",
   "name": "python3"
  },
  "language_info": {
   "codemirror_mode": {
    "name": "ipython",
    "version": 3
   },
   "file_extension": ".py",
   "mimetype": "text/x-python",
   "name": "python",
   "nbconvert_exporter": "python",
   "pygments_lexer": "ipython3",
   "version": "3.9.13"
  }
 },
 "nbformat": 4,
 "nbformat_minor": 5
}
